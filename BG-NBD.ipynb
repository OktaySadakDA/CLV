{
 "cells": [
  {
   "cell_type": "code",
   "execution_count": 1,
   "id": "f21b0f3a",
   "metadata": {},
   "outputs": [],
   "source": [
    "import numpy as np\n",
    "import pandas as pd\n",
    "import matplotlib.pyplot as plt\n",
    "import seaborn as sns \n",
    "import lifetimes\n",
    "import os"
   ]
  },
  {
   "cell_type": "code",
   "execution_count": 2,
   "id": "1a57f4e4",
   "metadata": {
    "scrolled": false
   },
   "outputs": [
    {
     "name": "stdout",
     "output_type": "stream",
     "text": [
      "Requirement already satisfied: lifetimes in c:\\users\\oktay\\anaconda3\\lib\\site-packages (0.11.3)\n",
      "Requirement already satisfied: numpy>=1.10.0 in c:\\users\\oktay\\anaconda3\\lib\\site-packages (from lifetimes) (1.24.3)\n",
      "Requirement already satisfied: scipy>=1.0.0 in c:\\users\\oktay\\anaconda3\\lib\\site-packages (from lifetimes) (1.10.1)\n",
      "Requirement already satisfied: pandas>=0.24.0 in c:\\users\\oktay\\anaconda3\\lib\\site-packages (from lifetimes) (1.5.3)\n",
      "Requirement already satisfied: autograd>=1.2.0 in c:\\users\\oktay\\anaconda3\\lib\\site-packages (from lifetimes) (1.6.2)\n",
      "Requirement already satisfied: dill>=0.2.6 in c:\\users\\oktay\\anaconda3\\lib\\site-packages (from lifetimes) (0.3.6)\n",
      "Requirement already satisfied: future>=0.15.2 in c:\\users\\oktay\\anaconda3\\lib\\site-packages (from autograd>=1.2.0->lifetimes) (0.18.3)\n",
      "Requirement already satisfied: python-dateutil>=2.8.1 in c:\\users\\oktay\\anaconda3\\lib\\site-packages (from pandas>=0.24.0->lifetimes) (2.8.2)\n",
      "Requirement already satisfied: pytz>=2020.1 in c:\\users\\oktay\\anaconda3\\lib\\site-packages (from pandas>=0.24.0->lifetimes) (2022.7)\n",
      "Requirement already satisfied: six>=1.5 in c:\\users\\oktay\\anaconda3\\lib\\site-packages (from python-dateutil>=2.8.1->pandas>=0.24.0->lifetimes) (1.16.0)\n",
      "Note: you may need to restart the kernel to use updated packages.\n"
     ]
    }
   ],
   "source": [
    "pip install lifetimes"
   ]
  },
  {
   "cell_type": "code",
   "execution_count": null,
   "id": "59c25075",
   "metadata": {},
   "outputs": [],
   "source": []
  },
  {
   "cell_type": "code",
   "execution_count": 3,
   "id": "9644574a",
   "metadata": {},
   "outputs": [],
   "source": [
    "df = pd.read_csv ('Online+Retail.csv')"
   ]
  },
  {
   "cell_type": "code",
   "execution_count": 4,
   "id": "4e3e74b9",
   "metadata": {},
   "outputs": [
    {
     "data": {
      "text/html": [
       "<div>\n",
       "<style scoped>\n",
       "    .dataframe tbody tr th:only-of-type {\n",
       "        vertical-align: middle;\n",
       "    }\n",
       "\n",
       "    .dataframe tbody tr th {\n",
       "        vertical-align: top;\n",
       "    }\n",
       "\n",
       "    .dataframe thead th {\n",
       "        text-align: right;\n",
       "    }\n",
       "</style>\n",
       "<table border=\"1\" class=\"dataframe\">\n",
       "  <thead>\n",
       "    <tr style=\"text-align: right;\">\n",
       "      <th></th>\n",
       "      <th>InvoiceNo</th>\n",
       "      <th>StockCode</th>\n",
       "      <th>Description</th>\n",
       "      <th>Quantity</th>\n",
       "      <th>InvoiceDate</th>\n",
       "      <th>UnitPrice</th>\n",
       "      <th>CustomerID</th>\n",
       "      <th>Country</th>\n",
       "    </tr>\n",
       "  </thead>\n",
       "  <tbody>\n",
       "    <tr>\n",
       "      <th>0</th>\n",
       "      <td>536365</td>\n",
       "      <td>85123A</td>\n",
       "      <td>WHITE HANGING HEART T-LIGHT HOLDER</td>\n",
       "      <td>6</td>\n",
       "      <td>2010-12-01 08:26</td>\n",
       "      <td>2.55</td>\n",
       "      <td>17850.0</td>\n",
       "      <td>United Kingdom</td>\n",
       "    </tr>\n",
       "    <tr>\n",
       "      <th>1</th>\n",
       "      <td>536365</td>\n",
       "      <td>71053</td>\n",
       "      <td>WHITE METAL LANTERN</td>\n",
       "      <td>6</td>\n",
       "      <td>2010-12-01 08:26</td>\n",
       "      <td>3.39</td>\n",
       "      <td>17850.0</td>\n",
       "      <td>United Kingdom</td>\n",
       "    </tr>\n",
       "    <tr>\n",
       "      <th>2</th>\n",
       "      <td>536365</td>\n",
       "      <td>84406B</td>\n",
       "      <td>CREAM CUPID HEARTS COAT HANGER</td>\n",
       "      <td>8</td>\n",
       "      <td>2010-12-01 08:26</td>\n",
       "      <td>2.75</td>\n",
       "      <td>17850.0</td>\n",
       "      <td>United Kingdom</td>\n",
       "    </tr>\n",
       "    <tr>\n",
       "      <th>3</th>\n",
       "      <td>536365</td>\n",
       "      <td>84029G</td>\n",
       "      <td>KNITTED UNION FLAG HOT WATER BOTTLE</td>\n",
       "      <td>6</td>\n",
       "      <td>2010-12-01 08:26</td>\n",
       "      <td>3.39</td>\n",
       "      <td>17850.0</td>\n",
       "      <td>United Kingdom</td>\n",
       "    </tr>\n",
       "    <tr>\n",
       "      <th>4</th>\n",
       "      <td>536365</td>\n",
       "      <td>84029E</td>\n",
       "      <td>RED WOOLLY HOTTIE WHITE HEART.</td>\n",
       "      <td>6</td>\n",
       "      <td>2010-12-01 08:26</td>\n",
       "      <td>3.39</td>\n",
       "      <td>17850.0</td>\n",
       "      <td>United Kingdom</td>\n",
       "    </tr>\n",
       "    <tr>\n",
       "      <th>5</th>\n",
       "      <td>536365</td>\n",
       "      <td>22752</td>\n",
       "      <td>SET 7 BABUSHKA NESTING BOXES</td>\n",
       "      <td>2</td>\n",
       "      <td>2010-12-01 08:26</td>\n",
       "      <td>7.65</td>\n",
       "      <td>17850.0</td>\n",
       "      <td>United Kingdom</td>\n",
       "    </tr>\n",
       "    <tr>\n",
       "      <th>6</th>\n",
       "      <td>536365</td>\n",
       "      <td>21730</td>\n",
       "      <td>GLASS STAR FROSTED T-LIGHT HOLDER</td>\n",
       "      <td>6</td>\n",
       "      <td>2010-12-01 08:26</td>\n",
       "      <td>4.25</td>\n",
       "      <td>17850.0</td>\n",
       "      <td>United Kingdom</td>\n",
       "    </tr>\n",
       "    <tr>\n",
       "      <th>7</th>\n",
       "      <td>536366</td>\n",
       "      <td>22633</td>\n",
       "      <td>HAND WARMER UNION JACK</td>\n",
       "      <td>6</td>\n",
       "      <td>2010-12-01 08:28</td>\n",
       "      <td>1.85</td>\n",
       "      <td>17850.0</td>\n",
       "      <td>United Kingdom</td>\n",
       "    </tr>\n",
       "    <tr>\n",
       "      <th>8</th>\n",
       "      <td>536366</td>\n",
       "      <td>22632</td>\n",
       "      <td>HAND WARMER RED POLKA DOT</td>\n",
       "      <td>6</td>\n",
       "      <td>2010-12-01 08:28</td>\n",
       "      <td>1.85</td>\n",
       "      <td>17850.0</td>\n",
       "      <td>United Kingdom</td>\n",
       "    </tr>\n",
       "    <tr>\n",
       "      <th>9</th>\n",
       "      <td>536367</td>\n",
       "      <td>84879</td>\n",
       "      <td>ASSORTED COLOUR BIRD ORNAMENT</td>\n",
       "      <td>32</td>\n",
       "      <td>2010-12-01 08:34</td>\n",
       "      <td>1.69</td>\n",
       "      <td>13047.0</td>\n",
       "      <td>United Kingdom</td>\n",
       "    </tr>\n",
       "  </tbody>\n",
       "</table>\n",
       "</div>"
      ],
      "text/plain": [
       "  InvoiceNo StockCode                          Description  Quantity  \\\n",
       "0    536365    85123A   WHITE HANGING HEART T-LIGHT HOLDER         6   \n",
       "1    536365     71053                  WHITE METAL LANTERN         6   \n",
       "2    536365    84406B       CREAM CUPID HEARTS COAT HANGER         8   \n",
       "3    536365    84029G  KNITTED UNION FLAG HOT WATER BOTTLE         6   \n",
       "4    536365    84029E       RED WOOLLY HOTTIE WHITE HEART.         6   \n",
       "5    536365     22752         SET 7 BABUSHKA NESTING BOXES         2   \n",
       "6    536365     21730    GLASS STAR FROSTED T-LIGHT HOLDER         6   \n",
       "7    536366     22633               HAND WARMER UNION JACK         6   \n",
       "8    536366     22632            HAND WARMER RED POLKA DOT         6   \n",
       "9    536367     84879        ASSORTED COLOUR BIRD ORNAMENT        32   \n",
       "\n",
       "        InvoiceDate  UnitPrice  CustomerID         Country  \n",
       "0  2010-12-01 08:26       2.55     17850.0  United Kingdom  \n",
       "1  2010-12-01 08:26       3.39     17850.0  United Kingdom  \n",
       "2  2010-12-01 08:26       2.75     17850.0  United Kingdom  \n",
       "3  2010-12-01 08:26       3.39     17850.0  United Kingdom  \n",
       "4  2010-12-01 08:26       3.39     17850.0  United Kingdom  \n",
       "5  2010-12-01 08:26       7.65     17850.0  United Kingdom  \n",
       "6  2010-12-01 08:26       4.25     17850.0  United Kingdom  \n",
       "7  2010-12-01 08:28       1.85     17850.0  United Kingdom  \n",
       "8  2010-12-01 08:28       1.85     17850.0  United Kingdom  \n",
       "9  2010-12-01 08:34       1.69     13047.0  United Kingdom  "
      ]
     },
     "execution_count": 4,
     "metadata": {},
     "output_type": "execute_result"
    }
   ],
   "source": [
    "df.head(10)"
   ]
  },
  {
   "cell_type": "code",
   "execution_count": 5,
   "id": "87d037bb",
   "metadata": {},
   "outputs": [
    {
     "data": {
      "text/plain": [
       "(541909, 8)"
      ]
     },
     "execution_count": 5,
     "metadata": {},
     "output_type": "execute_result"
    }
   ],
   "source": [
    "df.shape"
   ]
  },
  {
   "cell_type": "code",
   "execution_count": 6,
   "id": "56d494ce",
   "metadata": {},
   "outputs": [
    {
     "data": {
      "text/plain": [
       "InvoiceNo       object\n",
       "StockCode       object\n",
       "Description     object\n",
       "Quantity         int64\n",
       "InvoiceDate     object\n",
       "UnitPrice      float64\n",
       "CustomerID     float64\n",
       "Country         object\n",
       "dtype: object"
      ]
     },
     "execution_count": 6,
     "metadata": {},
     "output_type": "execute_result"
    }
   ],
   "source": [
    "df.dtypes \n",
    "## InvoiceDate column is object. We should change it to datetime.\n",
    "##InvoiceNo and StokeCode are object and we should change it to integer.\n",
    "## We can change CustomerID to integer"
   ]
  },
  {
   "cell_type": "code",
   "execution_count": 7,
   "id": "2309e101",
   "metadata": {
    "scrolled": true
   },
   "outputs": [
    {
     "data": {
      "text/plain": [
       "InvoiceNo           0\n",
       "StockCode           0\n",
       "Description      1454\n",
       "Quantity            0\n",
       "InvoiceDate         0\n",
       "UnitPrice           0\n",
       "CustomerID     135080\n",
       "Country             0\n",
       "dtype: int64"
      ]
     },
     "execution_count": 7,
     "metadata": {},
     "output_type": "execute_result"
    }
   ],
   "source": [
    "df.isnull().sum() \n",
    "#### CustomerID has significant amount of null values we cannot remove them as CustomerID is a very important column.\n"
   ]
  },
  {
   "cell_type": "code",
   "execution_count": 8,
   "id": "15cc200a",
   "metadata": {},
   "outputs": [
    {
     "data": {
      "text/plain": [
       "24.9"
      ]
     },
     "execution_count": 8,
     "metadata": {},
     "output_type": "execute_result"
    }
   ],
   "source": [
    "round(135080/df.shape[0],3)*100 ## 24.9% null values in the CustomerID column. We should remove all these null values."
   ]
  },
  {
   "cell_type": "code",
   "execution_count": 9,
   "id": "495d3854",
   "metadata": {},
   "outputs": [
    {
     "data": {
      "text/plain": [
       "4372"
      ]
     },
     "execution_count": 9,
     "metadata": {},
     "output_type": "execute_result"
    }
   ],
   "source": [
    "df['CustomerID'].nunique() "
   ]
  },
  {
   "cell_type": "code",
   "execution_count": 10,
   "id": "63394733",
   "metadata": {},
   "outputs": [
    {
     "data": {
      "text/plain": [
       "10624"
      ]
     },
     "execution_count": 10,
     "metadata": {},
     "output_type": "execute_result"
    }
   ],
   "source": [
    "len(df[df.Quantity<0]) ## These are unqualified recors therefore they should be removed."
   ]
  },
  {
   "cell_type": "code",
   "execution_count": 11,
   "id": "cf078ae8",
   "metadata": {},
   "outputs": [],
   "source": [
    "dfnew = df[(df.Quantity>0) & (df.CustomerID.isnull()==False)]"
   ]
  },
  {
   "cell_type": "code",
   "execution_count": 12,
   "id": "631061ba",
   "metadata": {},
   "outputs": [
    {
     "data": {
      "text/plain": [
       "(397924, 8)"
      ]
     },
     "execution_count": 12,
     "metadata": {},
     "output_type": "execute_result"
    }
   ],
   "source": [
    "dfnew.shape"
   ]
  },
  {
   "cell_type": "code",
   "execution_count": 13,
   "id": "f00c1499",
   "metadata": {},
   "outputs": [],
   "source": [
    "dfnew['amt'] = dfnew['Quantity'] * dfnew['UnitPrice'] ### We need to calculate the monetary value."
   ]
  },
  {
   "cell_type": "code",
   "execution_count": 14,
   "id": "7b691086",
   "metadata": {},
   "outputs": [],
   "source": [
    "dfnew['InvoiceDate'] = pd.to_datetime(dfnew['InvoiceDate'])"
   ]
  },
  {
   "cell_type": "code",
   "execution_count": 15,
   "id": "97300901",
   "metadata": {},
   "outputs": [
    {
     "data": {
      "text/plain": [
       "InvoiceNo              object\n",
       "StockCode              object\n",
       "Description            object\n",
       "Quantity                int64\n",
       "InvoiceDate    datetime64[ns]\n",
       "UnitPrice             float64\n",
       "CustomerID            float64\n",
       "Country                object\n",
       "amt                   float64\n",
       "dtype: object"
      ]
     },
     "execution_count": 15,
     "metadata": {},
     "output_type": "execute_result"
    }
   ],
   "source": [
    "dfnew.dtypes"
   ]
  },
  {
   "cell_type": "code",
   "execution_count": 16,
   "id": "e71e37b0",
   "metadata": {},
   "outputs": [
    {
     "data": {
      "text/html": [
       "<div>\n",
       "<style scoped>\n",
       "    .dataframe tbody tr th:only-of-type {\n",
       "        vertical-align: middle;\n",
       "    }\n",
       "\n",
       "    .dataframe tbody tr th {\n",
       "        vertical-align: top;\n",
       "    }\n",
       "\n",
       "    .dataframe thead th {\n",
       "        text-align: right;\n",
       "    }\n",
       "</style>\n",
       "<table border=\"1\" class=\"dataframe\">\n",
       "  <thead>\n",
       "    <tr style=\"text-align: right;\">\n",
       "      <th></th>\n",
       "      <th>InvoiceNo</th>\n",
       "      <th>StockCode</th>\n",
       "      <th>Description</th>\n",
       "      <th>Quantity</th>\n",
       "      <th>InvoiceDate</th>\n",
       "      <th>UnitPrice</th>\n",
       "      <th>CustomerID</th>\n",
       "      <th>Country</th>\n",
       "      <th>amt</th>\n",
       "    </tr>\n",
       "  </thead>\n",
       "  <tbody>\n",
       "    <tr>\n",
       "      <th>0</th>\n",
       "      <td>536365</td>\n",
       "      <td>85123A</td>\n",
       "      <td>WHITE HANGING HEART T-LIGHT HOLDER</td>\n",
       "      <td>6</td>\n",
       "      <td>2010-12-01 08:26:00</td>\n",
       "      <td>2.55</td>\n",
       "      <td>17850.0</td>\n",
       "      <td>United Kingdom</td>\n",
       "      <td>15.30</td>\n",
       "    </tr>\n",
       "    <tr>\n",
       "      <th>1</th>\n",
       "      <td>536365</td>\n",
       "      <td>71053</td>\n",
       "      <td>WHITE METAL LANTERN</td>\n",
       "      <td>6</td>\n",
       "      <td>2010-12-01 08:26:00</td>\n",
       "      <td>3.39</td>\n",
       "      <td>17850.0</td>\n",
       "      <td>United Kingdom</td>\n",
       "      <td>20.34</td>\n",
       "    </tr>\n",
       "    <tr>\n",
       "      <th>2</th>\n",
       "      <td>536365</td>\n",
       "      <td>84406B</td>\n",
       "      <td>CREAM CUPID HEARTS COAT HANGER</td>\n",
       "      <td>8</td>\n",
       "      <td>2010-12-01 08:26:00</td>\n",
       "      <td>2.75</td>\n",
       "      <td>17850.0</td>\n",
       "      <td>United Kingdom</td>\n",
       "      <td>22.00</td>\n",
       "    </tr>\n",
       "    <tr>\n",
       "      <th>3</th>\n",
       "      <td>536365</td>\n",
       "      <td>84029G</td>\n",
       "      <td>KNITTED UNION FLAG HOT WATER BOTTLE</td>\n",
       "      <td>6</td>\n",
       "      <td>2010-12-01 08:26:00</td>\n",
       "      <td>3.39</td>\n",
       "      <td>17850.0</td>\n",
       "      <td>United Kingdom</td>\n",
       "      <td>20.34</td>\n",
       "    </tr>\n",
       "    <tr>\n",
       "      <th>4</th>\n",
       "      <td>536365</td>\n",
       "      <td>84029E</td>\n",
       "      <td>RED WOOLLY HOTTIE WHITE HEART.</td>\n",
       "      <td>6</td>\n",
       "      <td>2010-12-01 08:26:00</td>\n",
       "      <td>3.39</td>\n",
       "      <td>17850.0</td>\n",
       "      <td>United Kingdom</td>\n",
       "      <td>20.34</td>\n",
       "    </tr>\n",
       "  </tbody>\n",
       "</table>\n",
       "</div>"
      ],
      "text/plain": [
       "  InvoiceNo StockCode                          Description  Quantity  \\\n",
       "0    536365    85123A   WHITE HANGING HEART T-LIGHT HOLDER         6   \n",
       "1    536365     71053                  WHITE METAL LANTERN         6   \n",
       "2    536365    84406B       CREAM CUPID HEARTS COAT HANGER         8   \n",
       "3    536365    84029G  KNITTED UNION FLAG HOT WATER BOTTLE         6   \n",
       "4    536365    84029E       RED WOOLLY HOTTIE WHITE HEART.         6   \n",
       "\n",
       "          InvoiceDate  UnitPrice  CustomerID         Country    amt  \n",
       "0 2010-12-01 08:26:00       2.55     17850.0  United Kingdom  15.30  \n",
       "1 2010-12-01 08:26:00       3.39     17850.0  United Kingdom  20.34  \n",
       "2 2010-12-01 08:26:00       2.75     17850.0  United Kingdom  22.00  \n",
       "3 2010-12-01 08:26:00       3.39     17850.0  United Kingdom  20.34  \n",
       "4 2010-12-01 08:26:00       3.39     17850.0  United Kingdom  20.34  "
      ]
     },
     "execution_count": 16,
     "metadata": {},
     "output_type": "execute_result"
    }
   ],
   "source": [
    "dfnew.head()"
   ]
  },
  {
   "cell_type": "code",
   "execution_count": null,
   "id": "886f405a",
   "metadata": {},
   "outputs": [],
   "source": []
  },
  {
   "cell_type": "code",
   "execution_count": 17,
   "id": "125670d7",
   "metadata": {},
   "outputs": [
    {
     "data": {
      "text/html": [
       "<div>\n",
       "<style scoped>\n",
       "    .dataframe tbody tr th:only-of-type {\n",
       "        vertical-align: middle;\n",
       "    }\n",
       "\n",
       "    .dataframe tbody tr th {\n",
       "        vertical-align: top;\n",
       "    }\n",
       "\n",
       "    .dataframe thead th {\n",
       "        text-align: right;\n",
       "    }\n",
       "</style>\n",
       "<table border=\"1\" class=\"dataframe\">\n",
       "  <thead>\n",
       "    <tr style=\"text-align: right;\">\n",
       "      <th></th>\n",
       "      <th>Quantity</th>\n",
       "      <th>UnitPrice</th>\n",
       "      <th>CustomerID</th>\n",
       "      <th>amt</th>\n",
       "    </tr>\n",
       "  </thead>\n",
       "  <tbody>\n",
       "    <tr>\n",
       "      <th>count</th>\n",
       "      <td>397924.000000</td>\n",
       "      <td>397924.000000</td>\n",
       "      <td>397924.000000</td>\n",
       "      <td>397924.000000</td>\n",
       "    </tr>\n",
       "    <tr>\n",
       "      <th>mean</th>\n",
       "      <td>13.021823</td>\n",
       "      <td>3.116174</td>\n",
       "      <td>15294.315171</td>\n",
       "      <td>22.394749</td>\n",
       "    </tr>\n",
       "    <tr>\n",
       "      <th>std</th>\n",
       "      <td>180.420210</td>\n",
       "      <td>22.096788</td>\n",
       "      <td>1713.169877</td>\n",
       "      <td>309.055588</td>\n",
       "    </tr>\n",
       "    <tr>\n",
       "      <th>min</th>\n",
       "      <td>1.000000</td>\n",
       "      <td>0.000000</td>\n",
       "      <td>12346.000000</td>\n",
       "      <td>0.000000</td>\n",
       "    </tr>\n",
       "    <tr>\n",
       "      <th>25%</th>\n",
       "      <td>2.000000</td>\n",
       "      <td>1.250000</td>\n",
       "      <td>13969.000000</td>\n",
       "      <td>4.680000</td>\n",
       "    </tr>\n",
       "    <tr>\n",
       "      <th>50%</th>\n",
       "      <td>6.000000</td>\n",
       "      <td>1.950000</td>\n",
       "      <td>15159.000000</td>\n",
       "      <td>11.800000</td>\n",
       "    </tr>\n",
       "    <tr>\n",
       "      <th>75%</th>\n",
       "      <td>12.000000</td>\n",
       "      <td>3.750000</td>\n",
       "      <td>16795.000000</td>\n",
       "      <td>19.800000</td>\n",
       "    </tr>\n",
       "    <tr>\n",
       "      <th>max</th>\n",
       "      <td>80995.000000</td>\n",
       "      <td>8142.750000</td>\n",
       "      <td>18287.000000</td>\n",
       "      <td>168469.600000</td>\n",
       "    </tr>\n",
       "  </tbody>\n",
       "</table>\n",
       "</div>"
      ],
      "text/plain": [
       "            Quantity      UnitPrice     CustomerID            amt\n",
       "count  397924.000000  397924.000000  397924.000000  397924.000000\n",
       "mean       13.021823       3.116174   15294.315171      22.394749\n",
       "std       180.420210      22.096788    1713.169877     309.055588\n",
       "min         1.000000       0.000000   12346.000000       0.000000\n",
       "25%         2.000000       1.250000   13969.000000       4.680000\n",
       "50%         6.000000       1.950000   15159.000000      11.800000\n",
       "75%        12.000000       3.750000   16795.000000      19.800000\n",
       "max     80995.000000    8142.750000   18287.000000  168469.600000"
      ]
     },
     "execution_count": 17,
     "metadata": {},
     "output_type": "execute_result"
    }
   ],
   "source": [
    "dfnew.describe() ## STD is the squareroot of the variance."
   ]
  },
  {
   "cell_type": "code",
   "execution_count": null,
   "id": "c451a4a1",
   "metadata": {},
   "outputs": [],
   "source": []
  },
  {
   "cell_type": "code",
   "execution_count": 18,
   "id": "73902c10",
   "metadata": {},
   "outputs": [],
   "source": [
    "from lifetimes.plotting import *\n",
    "from lifetimes.utils import *"
   ]
  },
  {
   "cell_type": "code",
   "execution_count": 19,
   "id": "954afb29",
   "metadata": {},
   "outputs": [
    {
     "data": {
      "text/html": [
       "<div>\n",
       "<style scoped>\n",
       "    .dataframe tbody tr th:only-of-type {\n",
       "        vertical-align: middle;\n",
       "    }\n",
       "\n",
       "    .dataframe tbody tr th {\n",
       "        vertical-align: top;\n",
       "    }\n",
       "\n",
       "    .dataframe thead th {\n",
       "        text-align: right;\n",
       "    }\n",
       "</style>\n",
       "<table border=\"1\" class=\"dataframe\">\n",
       "  <thead>\n",
       "    <tr style=\"text-align: right;\">\n",
       "      <th></th>\n",
       "      <th>frequency</th>\n",
       "      <th>recency</th>\n",
       "      <th>T</th>\n",
       "      <th>monetary_value</th>\n",
       "    </tr>\n",
       "    <tr>\n",
       "      <th>CustomerID</th>\n",
       "      <th></th>\n",
       "      <th></th>\n",
       "      <th></th>\n",
       "      <th></th>\n",
       "    </tr>\n",
       "  </thead>\n",
       "  <tbody>\n",
       "    <tr>\n",
       "      <th>12346.0</th>\n",
       "      <td>0.0</td>\n",
       "      <td>0.0</td>\n",
       "      <td>325.0</td>\n",
       "      <td>0.000000</td>\n",
       "    </tr>\n",
       "    <tr>\n",
       "      <th>12347.0</th>\n",
       "      <td>6.0</td>\n",
       "      <td>365.0</td>\n",
       "      <td>367.0</td>\n",
       "      <td>599.701667</td>\n",
       "    </tr>\n",
       "    <tr>\n",
       "      <th>12348.0</th>\n",
       "      <td>3.0</td>\n",
       "      <td>283.0</td>\n",
       "      <td>358.0</td>\n",
       "      <td>301.480000</td>\n",
       "    </tr>\n",
       "    <tr>\n",
       "      <th>12349.0</th>\n",
       "      <td>0.0</td>\n",
       "      <td>0.0</td>\n",
       "      <td>18.0</td>\n",
       "      <td>0.000000</td>\n",
       "    </tr>\n",
       "    <tr>\n",
       "      <th>12350.0</th>\n",
       "      <td>0.0</td>\n",
       "      <td>0.0</td>\n",
       "      <td>310.0</td>\n",
       "      <td>0.000000</td>\n",
       "    </tr>\n",
       "  </tbody>\n",
       "</table>\n",
       "</div>"
      ],
      "text/plain": [
       "            frequency  recency      T  monetary_value\n",
       "CustomerID                                           \n",
       "12346.0           0.0      0.0  325.0        0.000000\n",
       "12347.0           6.0    365.0  367.0      599.701667\n",
       "12348.0           3.0    283.0  358.0      301.480000\n",
       "12349.0           0.0      0.0   18.0        0.000000\n",
       "12350.0           0.0      0.0  310.0        0.000000"
      ]
     },
     "execution_count": 19,
     "metadata": {},
     "output_type": "execute_result"
    }
   ],
   "source": [
    "modeldata = summary_data_from_transaction_data (dfnew, 'CustomerID','InvoiceDate', monetary_value_col='amt',observation_period_end='2011-12-9')\n",
    "modeldata.head()"
   ]
  },
  {
   "cell_type": "code",
   "execution_count": 20,
   "id": "255116b5",
   "metadata": {},
   "outputs": [
    {
     "name": "stdout",
     "output_type": "stream",
     "text": [
      "count    4339.000000\n",
      "mean        2.864024\n",
      "std         5.952745\n",
      "min         0.000000\n",
      "25%         0.000000\n",
      "50%         1.000000\n",
      "75%         3.000000\n",
      "max       131.000000\n",
      "Name: frequency, dtype: float64\n",
      "0.3569946992394561\n"
     ]
    },
    {
     "data": {
      "image/png": "[encoded data removed]",
      "text/plain": [
       "<Figure size 640x480 with 1 Axes>"
      ]
     },
     "metadata": {},
     "output_type": "display_data"
    }
   ],
   "source": [
    "modeldata['frequency'].plot(kind='hist',bins=50)\n",
    "print(modeldata['frequency'].describe())\n",
    "print(sum(modeldata['frequency']==0)/float(len(modeldata)))"
   ]
  },
  {
   "cell_type": "code",
   "execution_count": 21,
   "id": "4fec430e",
   "metadata": {},
   "outputs": [
    {
     "data": {
      "text/html": [
       "<div>\n",
       "<style scoped>\n",
       "    .dataframe tbody tr th:only-of-type {\n",
       "        vertical-align: middle;\n",
       "    }\n",
       "\n",
       "    .dataframe tbody tr th {\n",
       "        vertical-align: top;\n",
       "    }\n",
       "\n",
       "    .dataframe thead th {\n",
       "        text-align: right;\n",
       "    }\n",
       "</style>\n",
       "<table border=\"1\" class=\"dataframe\">\n",
       "  <thead>\n",
       "    <tr style=\"text-align: right;\">\n",
       "      <th></th>\n",
       "      <th>InvoiceNo</th>\n",
       "      <th>StockCode</th>\n",
       "      <th>Description</th>\n",
       "      <th>Quantity</th>\n",
       "      <th>InvoiceDate</th>\n",
       "      <th>UnitPrice</th>\n",
       "      <th>CustomerID</th>\n",
       "      <th>Country</th>\n",
       "      <th>amt</th>\n",
       "    </tr>\n",
       "  </thead>\n",
       "  <tbody>\n",
       "    <tr>\n",
       "      <th>61619</th>\n",
       "      <td>541431</td>\n",
       "      <td>23166</td>\n",
       "      <td>MEDIUM CERAMIC TOP STORAGE JAR</td>\n",
       "      <td>74215</td>\n",
       "      <td>2011-01-18 10:01:00</td>\n",
       "      <td>1.04</td>\n",
       "      <td>12346.0</td>\n",
       "      <td>United Kingdom</td>\n",
       "      <td>77183.6</td>\n",
       "    </tr>\n",
       "  </tbody>\n",
       "</table>\n",
       "</div>"
      ],
      "text/plain": [
       "      InvoiceNo StockCode                     Description  Quantity  \\\n",
       "61619    541431     23166  MEDIUM CERAMIC TOP STORAGE JAR     74215   \n",
       "\n",
       "              InvoiceDate  UnitPrice  CustomerID         Country      amt  \n",
       "61619 2011-01-18 10:01:00       1.04     12346.0  United Kingdom  77183.6  "
      ]
     },
     "execution_count": 21,
     "metadata": {},
     "output_type": "execute_result"
    }
   ],
   "source": [
    "dfnew[dfnew.CustomerID == 12346.0]"
   ]
  },
  {
   "cell_type": "code",
   "execution_count": null,
   "id": "0ea20c16",
   "metadata": {},
   "outputs": [],
   "source": []
  },
  {
   "cell_type": "markdown",
   "id": "13311fd7",
   "metadata": {},
   "source": [
    "## Creating the CLV model "
   ]
  },
  {
   "cell_type": "markdown",
   "id": "8d56b717",
   "metadata": {},
   "source": [
    "# Model building."
   ]
  },
  {
   "cell_type": "code",
   "execution_count": 22,
   "id": "ad4d0e6e",
   "metadata": {},
   "outputs": [],
   "source": [
    "from lifetimes import BetaGeoFitter"
   ]
  },
  {
   "cell_type": "code",
   "execution_count": 23,
   "id": "a0cbc942",
   "metadata": {},
   "outputs": [],
   "source": [
    "bgf = BetaGeoFitter(penalizer_coef = 0.0) \n",
    "# We use the penalizer_coef to avoid overfitting. We put zero if the dataset is large. \n",
    "# We use it to have not exagereted likelihood function."
   ]
  },
  {
   "cell_type": "code",
   "execution_count": 24,
   "id": "7d287511",
   "metadata": {},
   "outputs": [
    {
     "name": "stdout",
     "output_type": "stream",
     "text": [
      "<lifetimes.BetaGeoFitter: fitted with 4339 subjects, a: 0.00, alpha: 68.89, b: 6.75, r: 0.83>\n"
     ]
    }
   ],
   "source": [
    "bgf.fit(modeldata['frequency'],modeldata['recency'],modeldata['T'])\n",
    "print (bgf)"
   ]
  },
  {
   "cell_type": "code",
   "execution_count": 25,
   "id": "ba667eaf",
   "metadata": {},
   "outputs": [],
   "source": [
    "# T is the customer age from the first purchase until now."
   ]
  },
  {
   "cell_type": "markdown",
   "id": "dcd28db2",
   "metadata": {},
   "source": [
    "# Creating frequency-recency matrix."
   ]
  },
  {
   "cell_type": "markdown",
   "id": "67a846f7",
   "metadata": {},
   "source": []
  },
  {
   "cell_type": "code",
   "execution_count": 26,
   "id": "8705295a",
   "metadata": {},
   "outputs": [],
   "source": [
    "from lifetimes.plotting import plot_frequency_recency_matrix"
   ]
  },
  {
   "cell_type": "code",
   "execution_count": 27,
   "id": "afd74fb5",
   "metadata": {},
   "outputs": [
    {
     "data": {
      "text/plain": [
       "<Axes: title={'center': 'Expected Number of Future Purchases for 1 Unit of Time,\\nby Frequency and Recency of a Customer'}, xlabel=\"Customer's Historical Frequency\", ylabel=\"Customer's Recency\">"
      ]
     },
     "execution_count": 27,
     "metadata": {},
     "output_type": "execute_result"
    },
    {
     "data": {
      "image/png": "[encoded data removed]",
      "text/plain": [
       "<Figure size 640x480 with 2 Axes>"
      ]
     },
     "metadata": {},
     "output_type": "display_data"
    }
   ],
   "source": [
    "plot_frequency_recency_matrix (bgf)"
   ]
  },
  {
   "cell_type": "markdown",
   "id": "7c0b2b6a",
   "metadata": {},
   "source": [
    "We can see in the above graph that the customers with higher recency and higher frequency  have higher probability of buying products in the next 1 day(It means they are more valuable). It also shows us that having only one factor could mislead us but having two factors giving more information."
   ]
  },
  {
   "cell_type": "markdown",
   "id": "075ebac8",
   "metadata": {},
   "source": [
    "# Creating probability alive matrix."
   ]
  },
  {
   "cell_type": "code",
   "execution_count": 28,
   "id": "5b8efab0",
   "metadata": {},
   "outputs": [],
   "source": [
    "from lifetimes.plotting import plot_probability_alive_matrix"
   ]
  },
  {
   "cell_type": "code",
   "execution_count": 29,
   "id": "f3448283",
   "metadata": {},
   "outputs": [
    {
     "data": {
      "text/plain": [
       "<Axes: title={'center': 'Probability Customer is Alive,\\nby Frequency and Recency of a Customer'}, xlabel=\"Customer's Historical Frequency\", ylabel=\"Customer's Recency\">"
      ]
     },
     "execution_count": 29,
     "metadata": {},
     "output_type": "execute_result"
    },
    {
     "data": {
      "image/png": "[encoded data removed]",
      "text/plain": [
       "<Figure size 1200x800 with 2 Axes>"
      ]
     },
     "metadata": {},
     "output_type": "display_data"
    }
   ],
   "source": [
    "fig = plt.figure(figsize=(12,8))\n",
    "plot_probability_alive_matrix(bgf)"
   ]
  },
  {
   "cell_type": "markdown",
   "id": "1f590732",
   "metadata": {},
   "source": [
    "The difference between recency-frequency matrix and probability alive matrix is recency-frequency show us the probability of a customer buying product in the future but probability alive matrix shows us wther the customer is gonna be active or not. Above we can see that the receny reduce , the frequency also reduces. Recency increases the frequency is also increases. Probability of being alive is also increasing."
   ]
  },
  {
   "cell_type": "markdown",
   "id": "ccca5bd7",
   "metadata": {},
   "source": [
    "# Predict future transaction number."
   ]
  },
  {
   "cell_type": "code",
   "execution_count": 30,
   "id": "c44a93d3",
   "metadata": {},
   "outputs": [
    {
     "data": {
      "text/html": [
       "<div>\n",
       "<style scoped>\n",
       "    .dataframe tbody tr th:only-of-type {\n",
       "        vertical-align: middle;\n",
       "    }\n",
       "\n",
       "    .dataframe tbody tr th {\n",
       "        vertical-align: top;\n",
       "    }\n",
       "\n",
       "    .dataframe thead th {\n",
       "        text-align: right;\n",
       "    }\n",
       "</style>\n",
       "<table border=\"1\" class=\"dataframe\">\n",
       "  <thead>\n",
       "    <tr style=\"text-align: right;\">\n",
       "      <th></th>\n",
       "      <th>frequency</th>\n",
       "      <th>recency</th>\n",
       "      <th>T</th>\n",
       "      <th>monetary_value</th>\n",
       "      <th>predicted purchases</th>\n",
       "    </tr>\n",
       "    <tr>\n",
       "      <th>CustomerID</th>\n",
       "      <th></th>\n",
       "      <th></th>\n",
       "      <th></th>\n",
       "      <th></th>\n",
       "      <th></th>\n",
       "    </tr>\n",
       "  </thead>\n",
       "  <tbody>\n",
       "    <tr>\n",
       "      <th>17502.0</th>\n",
       "      <td>3.0</td>\n",
       "      <td>20.0</td>\n",
       "      <td>29.0</td>\n",
       "      <td>154.166667</td>\n",
       "      <td>0.196471</td>\n",
       "    </tr>\n",
       "    <tr>\n",
       "      <th>14788.0</th>\n",
       "      <td>1.0</td>\n",
       "      <td>19.0</td>\n",
       "      <td>26.0</td>\n",
       "      <td>310.990000</td>\n",
       "      <td>0.197156</td>\n",
       "    </tr>\n",
       "    <tr>\n",
       "      <th>14904.0</th>\n",
       "      <td>1.0</td>\n",
       "      <td>23.0</td>\n",
       "      <td>25.0</td>\n",
       "      <td>628.480000</td>\n",
       "      <td>0.223423</td>\n",
       "    </tr>\n",
       "    <tr>\n",
       "      <th>17835.0</th>\n",
       "      <td>2.0</td>\n",
       "      <td>21.0</td>\n",
       "      <td>23.0</td>\n",
       "      <td>120.400000</td>\n",
       "      <td>0.229032</td>\n",
       "    </tr>\n",
       "    <tr>\n",
       "      <th>12950.0</th>\n",
       "      <td>2.0</td>\n",
       "      <td>22.0</td>\n",
       "      <td>24.0</td>\n",
       "      <td>765.700000</td>\n",
       "      <td>0.231974</td>\n",
       "    </tr>\n",
       "  </tbody>\n",
       "</table>\n",
       "</div>"
      ],
      "text/plain": [
       "            frequency  recency     T  monetary_value  predicted purchases\n",
       "CustomerID                                                               \n",
       "17502.0           3.0     20.0  29.0      154.166667             0.196471\n",
       "14788.0           1.0     19.0  26.0      310.990000             0.197156\n",
       "14904.0           1.0     23.0  25.0      628.480000             0.223423\n",
       "17835.0           2.0     21.0  23.0      120.400000             0.229032\n",
       "12950.0           2.0     22.0  24.0      765.700000             0.231974"
      ]
     },
     "execution_count": 30,
     "metadata": {},
     "output_type": "execute_result"
    }
   ],
   "source": [
    "t = 1 # T is the given day.We can here specify how many day we are gonna predict. 30 means 1 month.1 means 1 day.\n",
    "modeldata['predicted purchases'] = bgf.conditional_expected_number_of_purchases_up_to_time(t,modeldata['recency'],modeldata['frequency'],modeldata['T'])\n",
    "modeldata.sort_values(by='predicted purchases').tail(5)"
   ]
  },
  {
   "cell_type": "code",
   "execution_count": 31,
   "id": "5a9bc5f5",
   "metadata": {},
   "outputs": [
    {
     "data": {
      "text/html": [
       "<div>\n",
       "<style scoped>\n",
       "    .dataframe tbody tr th:only-of-type {\n",
       "        vertical-align: middle;\n",
       "    }\n",
       "\n",
       "    .dataframe tbody tr th {\n",
       "        vertical-align: top;\n",
       "    }\n",
       "\n",
       "    .dataframe thead th {\n",
       "        text-align: right;\n",
       "    }\n",
       "</style>\n",
       "<table border=\"1\" class=\"dataframe\">\n",
       "  <thead>\n",
       "    <tr style=\"text-align: right;\">\n",
       "      <th></th>\n",
       "      <th>frequency</th>\n",
       "      <th>recency</th>\n",
       "      <th>T</th>\n",
       "      <th>monetary_value</th>\n",
       "      <th>predicted purchases</th>\n",
       "    </tr>\n",
       "    <tr>\n",
       "      <th>CustomerID</th>\n",
       "      <th></th>\n",
       "      <th></th>\n",
       "      <th></th>\n",
       "      <th></th>\n",
       "      <th></th>\n",
       "    </tr>\n",
       "  </thead>\n",
       "  <tbody>\n",
       "    <tr>\n",
       "      <th>15525.0</th>\n",
       "      <td>2.0</td>\n",
       "      <td>371.0</td>\n",
       "      <td>373.0</td>\n",
       "      <td>255.995000</td>\n",
       "      <td>2.911720e-291</td>\n",
       "    </tr>\n",
       "    <tr>\n",
       "      <th>14594.0</th>\n",
       "      <td>1.0</td>\n",
       "      <td>366.0</td>\n",
       "      <td>373.0</td>\n",
       "      <td>124.830000</td>\n",
       "      <td>1.454864e-289</td>\n",
       "    </tr>\n",
       "    <tr>\n",
       "      <th>16539.0</th>\n",
       "      <td>3.0</td>\n",
       "      <td>371.0</td>\n",
       "      <td>373.0</td>\n",
       "      <td>315.486667</td>\n",
       "      <td>5.322761e-289</td>\n",
       "    </tr>\n",
       "    <tr>\n",
       "      <th>14865.0</th>\n",
       "      <td>1.0</td>\n",
       "      <td>365.0</td>\n",
       "      <td>372.0</td>\n",
       "      <td>15.000000</td>\n",
       "      <td>2.100351e-288</td>\n",
       "    </tr>\n",
       "    <tr>\n",
       "      <th>13255.0</th>\n",
       "      <td>1.0</td>\n",
       "      <td>364.0</td>\n",
       "      <td>373.0</td>\n",
       "      <td>173.810000</td>\n",
       "      <td>5.753029e-288</td>\n",
       "    </tr>\n",
       "  </tbody>\n",
       "</table>\n",
       "</div>"
      ],
      "text/plain": [
       "            frequency  recency      T  monetary_value  predicted purchases\n",
       "CustomerID                                                                \n",
       "15525.0           2.0    371.0  373.0      255.995000        2.911720e-291\n",
       "14594.0           1.0    366.0  373.0      124.830000        1.454864e-289\n",
       "16539.0           3.0    371.0  373.0      315.486667        5.322761e-289\n",
       "14865.0           1.0    365.0  372.0       15.000000        2.100351e-288\n",
       "13255.0           1.0    364.0  373.0      173.810000        5.753029e-288"
      ]
     },
     "execution_count": 31,
     "metadata": {},
     "output_type": "execute_result"
    }
   ],
   "source": [
    "modeldata.sort_values(by='predicted purchases').head(5)"
   ]
  },
  {
   "cell_type": "markdown",
   "id": "3bb33bee",
   "metadata": {},
   "source": [
    "The tail five gives us top five customers with highest purchase power."
   ]
  },
  {
   "cell_type": "markdown",
   "id": "f9e45348",
   "metadata": {},
   "source": [
    "# Create period transaction plot."
   ]
  },
  {
   "cell_type": "code",
   "execution_count": 32,
   "id": "34ec08e7",
   "metadata": {},
   "outputs": [
    {
     "data": {
      "text/plain": [
       "<Axes: title={'center': 'Frequency of Repeat Transactions'}, xlabel='Number of Calibration Period Transactions', ylabel='Customers'>"
      ]
     },
     "execution_count": 32,
     "metadata": {},
     "output_type": "execute_result"
    },
    {
     "data": {
      "image/png": "[encoded data removed]",
      "text/plain": [
       "<Figure size 640x480 with 1 Axes>"
      ]
     },
     "metadata": {},
     "output_type": "display_data"
    }
   ],
   "source": [
    "from lifetimes.plotting import plot_period_transactions\n",
    "plot_period_transactions(bgf) ## Calibration means machine learnings training period."
   ]
  },
  {
   "cell_type": "markdown",
   "id": "826dcffd",
   "metadata": {},
   "source": [
    "# Performance tracking with calibration_purchases_holdout_purchases plot"
   ]
  },
  {
   "cell_type": "code",
   "execution_count": 33,
   "id": "63331d3f",
   "metadata": {},
   "outputs": [],
   "source": [
    "summary_cal_holdout = calibration_and_holdout_data(df,'CustomerID','InvoiceDate',\n",
    "                                                  calibration_period_end= '2011-06-08',\n",
    "                                                  observation_period_end= '2011-12-9')"
   ]
  },
  {
   "cell_type": "code",
   "execution_count": 34,
   "id": "b2fe560f",
   "metadata": {},
   "outputs": [
    {
     "name": "stdout",
     "output_type": "stream",
     "text": [
      "            frequency_cal  recency_cal  T_cal  frequency_holdout  \\\n",
      "CustomerID                                                         \n",
      "12346.0               0.0          0.0  141.0                0.0   \n",
      "12347.0               2.0        121.0  183.0                4.0   \n",
      "12348.0               2.0        110.0  174.0                1.0   \n",
      "12350.0               0.0          0.0  126.0                0.0   \n",
      "12352.0               3.0         34.0  112.0                3.0   \n",
      "\n",
      "            duration_holdout  \n",
      "CustomerID                    \n",
      "12346.0                184.0  \n",
      "12347.0                184.0  \n",
      "12348.0                184.0  \n",
      "12350.0                184.0  \n",
      "12352.0                184.0  \n"
     ]
    }
   ],
   "source": [
    "print(summary_cal_holdout.head())"
   ]
  },
  {
   "cell_type": "code",
   "execution_count": null,
   "id": "c12faeca",
   "metadata": {},
   "outputs": [],
   "source": []
  },
  {
   "cell_type": "code",
   "execution_count": 35,
   "id": "b85288d5",
   "metadata": {},
   "outputs": [
    {
     "data": {
      "text/plain": [
       "<lifetimes.BetaGeoFitter: fitted with 2821 subjects, a: 0.03, alpha: 49.18, b: 0.41, r: 0.78>"
      ]
     },
     "execution_count": 35,
     "metadata": {},
     "output_type": "execute_result"
    }
   ],
   "source": [
    "from lifetimes.plotting import plot_calibration_purchases_vs_holdout_purchases\n",
    "bgf.fit(summary_cal_holdout['frequency_cal'],summary_cal_holdout['recency_cal'],summary_cal_holdout['T_cal'])"
   ]
  },
  {
   "cell_type": "code",
   "execution_count": 36,
   "id": "199a9f18",
   "metadata": {},
   "outputs": [
    {
     "name": "stderr",
     "output_type": "stream",
     "text": [
      "C:\\Users\\oktay\\anaconda3\\Lib\\site-packages\\pandas\\core\\arraylike.py:402: RuntimeWarning: invalid value encountered in log\n",
      "  result = getattr(ufunc, method)(*inputs, **kwargs)\n"
     ]
    },
    {
     "data": {
      "text/plain": [
       "<Axes: title={'center': 'Actual Purchases in Holdout Period vs Predicted Purchases'}, xlabel='Purchases in calibration period', ylabel='Average of Purchases in Holdout Period'>"
      ]
     },
     "execution_count": 36,
     "metadata": {},
     "output_type": "execute_result"
    },
    {
     "data": {
      "image/png": "[encoded data removed]",
      "text/plain": [
       "<Figure size 640x480 with 1 Axes>"
      ]
     },
     "metadata": {},
     "output_type": "display_data"
    }
   ],
   "source": [
    "plot_calibration_purchases_vs_holdout_purchases(bgf,summary_cal_holdout)"
   ]
  },
  {
   "cell_type": "code",
   "execution_count": null,
   "id": "755e3ab8",
   "metadata": {},
   "outputs": [],
   "source": []
  },
  {
   "cell_type": "markdown",
   "id": "56e5a0d0",
   "metadata": {},
   "source": [
    "# Plot the historical probability of survival based on CLV model."
   ]
  },
  {
   "cell_type": "markdown",
   "id": "8d9088c8",
   "metadata": {},
   "source": [
    "With the CLV model we created , we can specifically estimate a customer's historical probability of being alive."
   ]
  },
  {
   "cell_type": "code",
   "execution_count": 37,
   "id": "4092d05a",
   "metadata": {},
   "outputs": [],
   "source": [
    "from lifetimes.plotting import plot_history_alive\n",
    "import matplotlib.pyplot as plt"
   ]
  },
  {
   "cell_type": "code",
   "execution_count": 38,
   "id": "91c5041f",
   "metadata": {},
   "outputs": [
    {
     "name": "stdout",
     "output_type": "stream",
     "text": [
      "       InvoiceNo StockCode                          Description  Quantity  \\\n",
      "2421      536591     21427             SKULLS STORAGE BOX SMALL         1   \n",
      "2422      536591     22135                LADLE LOVE HEART PINK         1   \n",
      "2423      536591    90214M            LETTER \"M\" BLING KEY RING         1   \n",
      "2424      536591    90214V            LETTER \"V\" BLING KEY RING         1   \n",
      "2425      536591    90214S            LETTER \"S\" BLING KEY RING         1   \n",
      "...          ...       ...                                  ...       ...   \n",
      "540171    581469     21485     RETROSPOT HEART HOT WATER BOTTLE         1   \n",
      "540172    581469     22165  DIAMANTE HEART SHAPED WALL MIRROR,          1   \n",
      "540173    581469     21986     PACK OF 12 PINK POLKADOT TISSUES         1   \n",
      "540174    581469     22087             PAPER BUNTING WHITE LACE         6   \n",
      "540175    581469     22320          BIRDS MOBILE VINTAGE DESIGN         1   \n",
      "\n",
      "             InvoiceDate  UnitPrice  CustomerID         Country  \n",
      "2421    2010-12-01 16:57       2.10     14606.0  United Kingdom  \n",
      "2422    2010-12-01 16:57       0.42     14606.0  United Kingdom  \n",
      "2423    2010-12-01 16:57       1.25     14606.0  United Kingdom  \n",
      "2424    2010-12-01 16:57       1.25     14606.0  United Kingdom  \n",
      "2425    2010-12-01 16:57       1.25     14606.0  United Kingdom  \n",
      "...                  ...        ...         ...             ...  \n",
      "540171  2011-12-08 19:28       4.95     14606.0  United Kingdom  \n",
      "540172  2011-12-08 19:28       3.95     14606.0  United Kingdom  \n",
      "540173  2011-12-08 19:28       0.39     14606.0  United Kingdom  \n",
      "540174  2011-12-08 19:28       2.95     14606.0  United Kingdom  \n",
      "540175  2011-12-08 19:28       5.95     14606.0  United Kingdom  \n",
      "\n",
      "[2782 rows x 8 columns]\n"
     ]
    }
   ],
   "source": [
    "id = 14606\n",
    "days_since_birth = 365\n",
    "sp_trans=df.loc[df['CustomerID']==id]\n",
    "print(sp_trans)"
   ]
  },
  {
   "cell_type": "code",
   "execution_count": 39,
   "id": "daddf94d",
   "metadata": {
    "scrolled": false
   },
   "outputs": [
    {
     "ename": "ConversionError",
     "evalue": "Failed to convert value(s) to axis units: '2010-12-01 16:57'",
     "output_type": "error",
     "traceback": [
      "\u001b[1;31m---------------------------------------------------------------------------\u001b[0m",
      "\u001b[1;31mIndexError\u001b[0m                                Traceback (most recent call last)",
      "File \u001b[1;32m~\\anaconda3\\Lib\\site-packages\\matplotlib\\axis.py:1732\u001b[0m, in \u001b[0;36mAxis.convert_units\u001b[1;34m(self, x)\u001b[0m\n\u001b[0;32m   1731\u001b[0m \u001b[38;5;28;01mtry\u001b[39;00m:\n\u001b[1;32m-> 1732\u001b[0m     ret \u001b[38;5;241m=\u001b[39m \u001b[38;5;28mself\u001b[39m\u001b[38;5;241m.\u001b[39mconverter\u001b[38;5;241m.\u001b[39mconvert(x, \u001b[38;5;28mself\u001b[39m\u001b[38;5;241m.\u001b[39munits, \u001b[38;5;28mself\u001b[39m)\n\u001b[0;32m   1733\u001b[0m \u001b[38;5;28;01mexcept\u001b[39;00m \u001b[38;5;167;01mException\u001b[39;00m \u001b[38;5;28;01mas\u001b[39;00m e:\n",
      "File \u001b[1;32m~\\anaconda3\\Lib\\site-packages\\matplotlib\\dates.py:1936\u001b[0m, in \u001b[0;36m_SwitchableDateConverter.convert\u001b[1;34m(self, *args, **kwargs)\u001b[0m\n\u001b[0;32m   1935\u001b[0m \u001b[38;5;28;01mdef\u001b[39;00m \u001b[38;5;21mconvert\u001b[39m(\u001b[38;5;28mself\u001b[39m, \u001b[38;5;241m*\u001b[39margs, \u001b[38;5;241m*\u001b[39m\u001b[38;5;241m*\u001b[39mkwargs):\n\u001b[1;32m-> 1936\u001b[0m     \u001b[38;5;28;01mreturn\u001b[39;00m \u001b[38;5;28mself\u001b[39m\u001b[38;5;241m.\u001b[39m_get_converter()\u001b[38;5;241m.\u001b[39mconvert(\u001b[38;5;241m*\u001b[39margs, \u001b[38;5;241m*\u001b[39m\u001b[38;5;241m*\u001b[39mkwargs)\n",
      "File \u001b[1;32m~\\anaconda3\\Lib\\site-packages\\matplotlib\\dates.py:1864\u001b[0m, in \u001b[0;36mDateConverter.convert\u001b[1;34m(value, unit, axis)\u001b[0m\n\u001b[0;32m   1858\u001b[0m \u001b[38;5;250m\u001b[39m\u001b[38;5;124;03m\"\"\"\u001b[39;00m\n\u001b[0;32m   1859\u001b[0m \u001b[38;5;124;03mIf *value* is not already a number or sequence of numbers, convert it\u001b[39;00m\n\u001b[0;32m   1860\u001b[0m \u001b[38;5;124;03mwith `date2num`.\u001b[39;00m\n\u001b[0;32m   1861\u001b[0m \n\u001b[0;32m   1862\u001b[0m \u001b[38;5;124;03mThe *unit* and *axis* arguments are not used.\u001b[39;00m\n\u001b[0;32m   1863\u001b[0m \u001b[38;5;124;03m\"\"\"\u001b[39;00m\n\u001b[1;32m-> 1864\u001b[0m \u001b[38;5;28;01mreturn\u001b[39;00m date2num(value)\n",
      "File \u001b[1;32m~\\anaconda3\\Lib\\site-packages\\matplotlib\\dates.py:457\u001b[0m, in \u001b[0;36mdate2num\u001b[1;34m(d)\u001b[0m\n\u001b[0;32m    456\u001b[0m     \u001b[38;5;28;01mreturn\u001b[39;00m d\n\u001b[1;32m--> 457\u001b[0m tzi \u001b[38;5;241m=\u001b[39m \u001b[38;5;28mgetattr\u001b[39m(d[\u001b[38;5;241m0\u001b[39m], \u001b[38;5;124m'\u001b[39m\u001b[38;5;124mtzinfo\u001b[39m\u001b[38;5;124m'\u001b[39m, \u001b[38;5;28;01mNone\u001b[39;00m)\n\u001b[0;32m    458\u001b[0m \u001b[38;5;28;01mif\u001b[39;00m tzi \u001b[38;5;129;01mis\u001b[39;00m \u001b[38;5;129;01mnot\u001b[39;00m \u001b[38;5;28;01mNone\u001b[39;00m:\n\u001b[0;32m    459\u001b[0m     \u001b[38;5;66;03m# make datetime naive:\u001b[39;00m\n",
      "\u001b[1;31mIndexError\u001b[0m: too many indices for array: array is 0-dimensional, but 1 were indexed",
      "\nThe above exception was the direct cause of the following exception:\n",
      "\u001b[1;31mConversionError\u001b[0m                           Traceback (most recent call last)",
      "Cell \u001b[1;32mIn[39], line 2\u001b[0m\n\u001b[0;32m      1\u001b[0m \u001b[38;5;66;03m#fig = plt.figure(figsize=(12,8))\u001b[39;00m\n\u001b[1;32m----> 2\u001b[0m plot_history_alive(bgf,days_since_birth,sp_trans,\u001b[38;5;124m'\u001b[39m\u001b[38;5;124mInvoiceDate\u001b[39m\u001b[38;5;124m'\u001b[39m)\n",
      "File \u001b[1;32m~\\anaconda3\\Lib\\site-packages\\lifetimes\\plotting.py:384\u001b[0m, in \u001b[0;36mplot_history_alive\u001b[1;34m(model, t, transactions, datetime_col, freq, start_date, ax, **kwargs)\u001b[0m\n\u001b[0;32m    382\u001b[0m plt\u001b[38;5;241m.\u001b[39mylim(\u001b[38;5;241m0\u001b[39m, \u001b[38;5;241m1.0\u001b[39m)\n\u001b[0;32m    383\u001b[0m plt\u001b[38;5;241m.\u001b[39myticks(np\u001b[38;5;241m.\u001b[39marange(\u001b[38;5;241m0\u001b[39m, \u001b[38;5;241m1.1\u001b[39m, \u001b[38;5;241m0.1\u001b[39m))\n\u001b[1;32m--> 384\u001b[0m plt\u001b[38;5;241m.\u001b[39mxlim(start_date, path_dates[\u001b[38;5;241m-\u001b[39m\u001b[38;5;241m1\u001b[39m])\n\u001b[0;32m    385\u001b[0m plt\u001b[38;5;241m.\u001b[39mlegend(loc\u001b[38;5;241m=\u001b[39m\u001b[38;5;241m3\u001b[39m)\n\u001b[0;32m    386\u001b[0m plt\u001b[38;5;241m.\u001b[39mylabel(\u001b[38;5;124m\"\u001b[39m\u001b[38;5;124mP_alive\u001b[39m\u001b[38;5;124m\"\u001b[39m)\n",
      "File \u001b[1;32m~\\anaconda3\\Lib\\site-packages\\matplotlib\\pyplot.py:1794\u001b[0m, in \u001b[0;36mxlim\u001b[1;34m(*args, **kwargs)\u001b[0m\n\u001b[0;32m   1792\u001b[0m \u001b[38;5;28;01mif\u001b[39;00m \u001b[38;5;129;01mnot\u001b[39;00m args \u001b[38;5;129;01mand\u001b[39;00m \u001b[38;5;129;01mnot\u001b[39;00m kwargs:\n\u001b[0;32m   1793\u001b[0m     \u001b[38;5;28;01mreturn\u001b[39;00m ax\u001b[38;5;241m.\u001b[39mget_xlim()\n\u001b[1;32m-> 1794\u001b[0m ret \u001b[38;5;241m=\u001b[39m ax\u001b[38;5;241m.\u001b[39mset_xlim(\u001b[38;5;241m*\u001b[39margs, \u001b[38;5;241m*\u001b[39m\u001b[38;5;241m*\u001b[39mkwargs)\n\u001b[0;32m   1795\u001b[0m \u001b[38;5;28;01mreturn\u001b[39;00m ret\n",
      "File \u001b[1;32m~\\anaconda3\\Lib\\site-packages\\matplotlib\\_api\\deprecation.py:454\u001b[0m, in \u001b[0;36mmake_keyword_only.<locals>.wrapper\u001b[1;34m(*args, **kwargs)\u001b[0m\n\u001b[0;32m    448\u001b[0m \u001b[38;5;28;01mif\u001b[39;00m \u001b[38;5;28mlen\u001b[39m(args) \u001b[38;5;241m>\u001b[39m name_idx:\n\u001b[0;32m    449\u001b[0m     warn_deprecated(\n\u001b[0;32m    450\u001b[0m         since, message\u001b[38;5;241m=\u001b[39m\u001b[38;5;124m\"\u001b[39m\u001b[38;5;124mPassing the \u001b[39m\u001b[38;5;132;01m%(name)s\u001b[39;00m\u001b[38;5;124m \u001b[39m\u001b[38;5;132;01m%(obj_type)s\u001b[39;00m\u001b[38;5;124m \u001b[39m\u001b[38;5;124m\"\u001b[39m\n\u001b[0;32m    451\u001b[0m         \u001b[38;5;124m\"\u001b[39m\u001b[38;5;124mpositionally is deprecated since Matplotlib \u001b[39m\u001b[38;5;132;01m%(since)s\u001b[39;00m\u001b[38;5;124m; the \u001b[39m\u001b[38;5;124m\"\u001b[39m\n\u001b[0;32m    452\u001b[0m         \u001b[38;5;124m\"\u001b[39m\u001b[38;5;124mparameter will become keyword-only \u001b[39m\u001b[38;5;132;01m%(removal)s\u001b[39;00m\u001b[38;5;124m.\u001b[39m\u001b[38;5;124m\"\u001b[39m,\n\u001b[0;32m    453\u001b[0m         name\u001b[38;5;241m=\u001b[39mname, obj_type\u001b[38;5;241m=\u001b[39m\u001b[38;5;124mf\u001b[39m\u001b[38;5;124m\"\u001b[39m\u001b[38;5;124mparameter of \u001b[39m\u001b[38;5;132;01m{\u001b[39;00mfunc\u001b[38;5;241m.\u001b[39m\u001b[38;5;18m__name__\u001b[39m\u001b[38;5;132;01m}\u001b[39;00m\u001b[38;5;124m()\u001b[39m\u001b[38;5;124m\"\u001b[39m)\n\u001b[1;32m--> 454\u001b[0m \u001b[38;5;28;01mreturn\u001b[39;00m func(\u001b[38;5;241m*\u001b[39margs, \u001b[38;5;241m*\u001b[39m\u001b[38;5;241m*\u001b[39mkwargs)\n",
      "File \u001b[1;32m~\\anaconda3\\Lib\\site-packages\\matplotlib\\axes\\_base.py:3650\u001b[0m, in \u001b[0;36m_AxesBase.set_xlim\u001b[1;34m(self, left, right, emit, auto, xmin, xmax)\u001b[0m\n\u001b[0;32m   3648\u001b[0m         \u001b[38;5;28;01mraise\u001b[39;00m \u001b[38;5;167;01mTypeError\u001b[39;00m(\u001b[38;5;124m\"\u001b[39m\u001b[38;5;124mCannot pass both \u001b[39m\u001b[38;5;124m'\u001b[39m\u001b[38;5;124mright\u001b[39m\u001b[38;5;124m'\u001b[39m\u001b[38;5;124m and \u001b[39m\u001b[38;5;124m'\u001b[39m\u001b[38;5;124mxmax\u001b[39m\u001b[38;5;124m'\u001b[39m\u001b[38;5;124m\"\u001b[39m)\n\u001b[0;32m   3649\u001b[0m     right \u001b[38;5;241m=\u001b[39m xmax\n\u001b[1;32m-> 3650\u001b[0m \u001b[38;5;28;01mreturn\u001b[39;00m \u001b[38;5;28mself\u001b[39m\u001b[38;5;241m.\u001b[39mxaxis\u001b[38;5;241m.\u001b[39m_set_lim(left, right, emit\u001b[38;5;241m=\u001b[39memit, auto\u001b[38;5;241m=\u001b[39mauto)\n",
      "File \u001b[1;32m~\\anaconda3\\Lib\\site-packages\\matplotlib\\axis.py:1184\u001b[0m, in \u001b[0;36mAxis._set_lim\u001b[1;34m(self, v0, v1, emit, auto)\u001b[0m\n\u001b[0;32m   1180\u001b[0m name, \u001b[38;5;241m=\u001b[39m [name \u001b[38;5;28;01mfor\u001b[39;00m name, axis \u001b[38;5;129;01min\u001b[39;00m \u001b[38;5;28mself\u001b[39m\u001b[38;5;241m.\u001b[39maxes\u001b[38;5;241m.\u001b[39m_axis_map\u001b[38;5;241m.\u001b[39mitems()\n\u001b[0;32m   1181\u001b[0m          \u001b[38;5;28;01mif\u001b[39;00m axis \u001b[38;5;129;01mis\u001b[39;00m \u001b[38;5;28mself\u001b[39m]  \u001b[38;5;66;03m# The axis name.\u001b[39;00m\n\u001b[0;32m   1183\u001b[0m \u001b[38;5;28mself\u001b[39m\u001b[38;5;241m.\u001b[39maxes\u001b[38;5;241m.\u001b[39m_process_unit_info([(name, (v0, v1))], convert\u001b[38;5;241m=\u001b[39m\u001b[38;5;28;01mFalse\u001b[39;00m)\n\u001b[1;32m-> 1184\u001b[0m v0 \u001b[38;5;241m=\u001b[39m \u001b[38;5;28mself\u001b[39m\u001b[38;5;241m.\u001b[39maxes\u001b[38;5;241m.\u001b[39m_validate_converted_limits(v0, \u001b[38;5;28mself\u001b[39m\u001b[38;5;241m.\u001b[39mconvert_units)\n\u001b[0;32m   1185\u001b[0m v1 \u001b[38;5;241m=\u001b[39m \u001b[38;5;28mself\u001b[39m\u001b[38;5;241m.\u001b[39maxes\u001b[38;5;241m.\u001b[39m_validate_converted_limits(v1, \u001b[38;5;28mself\u001b[39m\u001b[38;5;241m.\u001b[39mconvert_units)\n\u001b[0;32m   1187\u001b[0m \u001b[38;5;28;01mif\u001b[39;00m v0 \u001b[38;5;129;01mis\u001b[39;00m \u001b[38;5;28;01mNone\u001b[39;00m \u001b[38;5;129;01mor\u001b[39;00m v1 \u001b[38;5;129;01mis\u001b[39;00m \u001b[38;5;28;01mNone\u001b[39;00m:\n\u001b[0;32m   1188\u001b[0m     \u001b[38;5;66;03m# Axes init calls set_xlim(0, 1) before get_xlim() can be called,\u001b[39;00m\n\u001b[0;32m   1189\u001b[0m     \u001b[38;5;66;03m# so only grab the limits if we really need them.\u001b[39;00m\n",
      "File \u001b[1;32m~\\anaconda3\\Lib\\site-packages\\matplotlib\\axes\\_base.py:3567\u001b[0m, in \u001b[0;36m_AxesBase._validate_converted_limits\u001b[1;34m(self, limit, convert)\u001b[0m\n\u001b[0;32m   3557\u001b[0m \u001b[38;5;250m\u001b[39m\u001b[38;5;124;03m\"\"\"\u001b[39;00m\n\u001b[0;32m   3558\u001b[0m \u001b[38;5;124;03mRaise ValueError if converted limits are non-finite.\u001b[39;00m\n\u001b[0;32m   3559\u001b[0m \n\u001b[1;32m   (...)\u001b[0m\n\u001b[0;32m   3564\u001b[0m \u001b[38;5;124;03mThe limit value after call to convert(), or None if limit is None.\u001b[39;00m\n\u001b[0;32m   3565\u001b[0m \u001b[38;5;124;03m\"\"\"\u001b[39;00m\n\u001b[0;32m   3566\u001b[0m \u001b[38;5;28;01mif\u001b[39;00m limit \u001b[38;5;129;01mis\u001b[39;00m \u001b[38;5;129;01mnot\u001b[39;00m \u001b[38;5;28;01mNone\u001b[39;00m:\n\u001b[1;32m-> 3567\u001b[0m     converted_limit \u001b[38;5;241m=\u001b[39m convert(limit)\n\u001b[0;32m   3568\u001b[0m     \u001b[38;5;28;01mif\u001b[39;00m (\u001b[38;5;28misinstance\u001b[39m(converted_limit, Real)\n\u001b[0;32m   3569\u001b[0m             \u001b[38;5;129;01mand\u001b[39;00m \u001b[38;5;129;01mnot\u001b[39;00m np\u001b[38;5;241m.\u001b[39misfinite(converted_limit)):\n\u001b[0;32m   3570\u001b[0m         \u001b[38;5;28;01mraise\u001b[39;00m \u001b[38;5;167;01mValueError\u001b[39;00m(\u001b[38;5;124m\"\u001b[39m\u001b[38;5;124mAxis limits cannot be NaN or Inf\u001b[39m\u001b[38;5;124m\"\u001b[39m)\n",
      "File \u001b[1;32m~\\anaconda3\\Lib\\site-packages\\matplotlib\\axis.py:1734\u001b[0m, in \u001b[0;36mAxis.convert_units\u001b[1;34m(self, x)\u001b[0m\n\u001b[0;32m   1732\u001b[0m     ret \u001b[38;5;241m=\u001b[39m \u001b[38;5;28mself\u001b[39m\u001b[38;5;241m.\u001b[39mconverter\u001b[38;5;241m.\u001b[39mconvert(x, \u001b[38;5;28mself\u001b[39m\u001b[38;5;241m.\u001b[39munits, \u001b[38;5;28mself\u001b[39m)\n\u001b[0;32m   1733\u001b[0m \u001b[38;5;28;01mexcept\u001b[39;00m \u001b[38;5;167;01mException\u001b[39;00m \u001b[38;5;28;01mas\u001b[39;00m e:\n\u001b[1;32m-> 1734\u001b[0m     \u001b[38;5;28;01mraise\u001b[39;00m munits\u001b[38;5;241m.\u001b[39mConversionError(\u001b[38;5;124m'\u001b[39m\u001b[38;5;124mFailed to convert value(s) to axis \u001b[39m\u001b[38;5;124m'\u001b[39m\n\u001b[0;32m   1735\u001b[0m                                  \u001b[38;5;124mf\u001b[39m\u001b[38;5;124m'\u001b[39m\u001b[38;5;124munits: \u001b[39m\u001b[38;5;132;01m{\u001b[39;00mx\u001b[38;5;132;01m!r}\u001b[39;00m\u001b[38;5;124m'\u001b[39m) \u001b[38;5;28;01mfrom\u001b[39;00m \u001b[38;5;21;01me\u001b[39;00m\n\u001b[0;32m   1736\u001b[0m \u001b[38;5;28;01mreturn\u001b[39;00m ret\n",
      "\u001b[1;31mConversionError\u001b[0m: Failed to convert value(s) to axis units: '2010-12-01 16:57'"
     ]
    },
    {
     "data": {
      "image/png": "[encoded data removed]",
      "text/plain": [
       "<Figure size 640x480 with 1 Axes>"
      ]
     },
     "metadata": {},
     "output_type": "display_data"
    }
   ],
   "source": [
    "#fig = plt.figure(figsize=(12,8))\n",
    "plot_history_alive(bgf,days_since_birth,sp_trans,'InvoiceDate')"
   ]
  },
  {
   "cell_type": "code",
   "execution_count": null,
   "id": "ac21e183",
   "metadata": {},
   "outputs": [],
   "source": []
  },
  {
   "cell_type": "markdown",
   "id": "96a96459",
   "metadata": {},
   "source": [
    "# Subset the customers with purchase behaviour"
   ]
  },
  {
   "cell_type": "code",
   "execution_count": 40,
   "id": "6ed15f93",
   "metadata": {},
   "outputs": [],
   "source": [
    "returning_customers_summary = modeldata[modeldata['frequency']>0] # TO find the customers with repeat purchase."
   ]
  },
  {
   "cell_type": "code",
   "execution_count": 41,
   "id": "b9096ba0",
   "metadata": {},
   "outputs": [
    {
     "name": "stdout",
     "output_type": "stream",
     "text": [
      "            frequency  recency      T  monetary_value  predicted purchases\n",
      "CustomerID                                                                \n",
      "12347.0           6.0    365.0  367.0      599.701667        1.309821e-275\n",
      "12348.0           3.0    283.0  358.0      301.480000        1.464576e-215\n",
      "12352.0           6.0    260.0  296.0      368.256667        2.302979e-175\n",
      "12356.0           2.0    303.0  325.0      269.905000        3.581836e-222\n",
      "12358.0           1.0    149.0  150.0      683.200000         1.595659e-70\n"
     ]
    }
   ],
   "source": [
    "print(returning_customers_summary.head())"
   ]
  },
  {
   "cell_type": "code",
   "execution_count": 42,
   "id": "9df08a61",
   "metadata": {},
   "outputs": [
    {
     "data": {
      "text/html": [
       "<div>\n",
       "<style scoped>\n",
       "    .dataframe tbody tr th:only-of-type {\n",
       "        vertical-align: middle;\n",
       "    }\n",
       "\n",
       "    .dataframe tbody tr th {\n",
       "        vertical-align: top;\n",
       "    }\n",
       "\n",
       "    .dataframe thead th {\n",
       "        text-align: right;\n",
       "    }\n",
       "</style>\n",
       "<table border=\"1\" class=\"dataframe\">\n",
       "  <thead>\n",
       "    <tr style=\"text-align: right;\">\n",
       "      <th></th>\n",
       "      <th>frequency</th>\n",
       "      <th>recency</th>\n",
       "      <th>T</th>\n",
       "      <th>monetary_value</th>\n",
       "      <th>predicted purchases</th>\n",
       "    </tr>\n",
       "    <tr>\n",
       "      <th>CustomerID</th>\n",
       "      <th></th>\n",
       "      <th></th>\n",
       "      <th></th>\n",
       "      <th></th>\n",
       "      <th></th>\n",
       "    </tr>\n",
       "  </thead>\n",
       "  <tbody>\n",
       "    <tr>\n",
       "      <th>12347.0</th>\n",
       "      <td>6.0</td>\n",
       "      <td>365.0</td>\n",
       "      <td>367.0</td>\n",
       "      <td>599.701667</td>\n",
       "      <td>1.309821e-275</td>\n",
       "    </tr>\n",
       "    <tr>\n",
       "      <th>12348.0</th>\n",
       "      <td>3.0</td>\n",
       "      <td>283.0</td>\n",
       "      <td>358.0</td>\n",
       "      <td>301.480000</td>\n",
       "      <td>1.464576e-215</td>\n",
       "    </tr>\n",
       "    <tr>\n",
       "      <th>12352.0</th>\n",
       "      <td>6.0</td>\n",
       "      <td>260.0</td>\n",
       "      <td>296.0</td>\n",
       "      <td>368.256667</td>\n",
       "      <td>2.302979e-175</td>\n",
       "    </tr>\n",
       "    <tr>\n",
       "      <th>12356.0</th>\n",
       "      <td>2.0</td>\n",
       "      <td>303.0</td>\n",
       "      <td>325.0</td>\n",
       "      <td>269.905000</td>\n",
       "      <td>3.581836e-222</td>\n",
       "    </tr>\n",
       "    <tr>\n",
       "      <th>12358.0</th>\n",
       "      <td>1.0</td>\n",
       "      <td>149.0</td>\n",
       "      <td>150.0</td>\n",
       "      <td>683.200000</td>\n",
       "      <td>1.595659e-70</td>\n",
       "    </tr>\n",
       "    <tr>\n",
       "      <th>...</th>\n",
       "      <td>...</td>\n",
       "      <td>...</td>\n",
       "      <td>...</td>\n",
       "      <td>...</td>\n",
       "      <td>...</td>\n",
       "    </tr>\n",
       "    <tr>\n",
       "      <th>18272.0</th>\n",
       "      <td>5.0</td>\n",
       "      <td>244.0</td>\n",
       "      <td>246.0</td>\n",
       "      <td>487.752000</td>\n",
       "      <td>4.129384e-150</td>\n",
       "    </tr>\n",
       "    <tr>\n",
       "      <th>18273.0</th>\n",
       "      <td>2.0</td>\n",
       "      <td>255.0</td>\n",
       "      <td>257.0</td>\n",
       "      <td>76.500000</td>\n",
       "      <td>1.965985e-165</td>\n",
       "    </tr>\n",
       "    <tr>\n",
       "      <th>18282.0</th>\n",
       "      <td>1.0</td>\n",
       "      <td>119.0</td>\n",
       "      <td>126.0</td>\n",
       "      <td>77.840000</td>\n",
       "      <td>9.562689e-50</td>\n",
       "    </tr>\n",
       "    <tr>\n",
       "      <th>18283.0</th>\n",
       "      <td>13.0</td>\n",
       "      <td>334.0</td>\n",
       "      <td>337.0</td>\n",
       "      <td>152.802308</td>\n",
       "      <td>1.405503e-228</td>\n",
       "    </tr>\n",
       "    <tr>\n",
       "      <th>18287.0</th>\n",
       "      <td>2.0</td>\n",
       "      <td>159.0</td>\n",
       "      <td>201.0</td>\n",
       "      <td>536.000000</td>\n",
       "      <td>4.543111e-89</td>\n",
       "    </tr>\n",
       "  </tbody>\n",
       "</table>\n",
       "<p>2790 rows × 5 columns</p>\n",
       "</div>"
      ],
      "text/plain": [
       "            frequency  recency      T  monetary_value  predicted purchases\n",
       "CustomerID                                                                \n",
       "12347.0           6.0    365.0  367.0      599.701667        1.309821e-275\n",
       "12348.0           3.0    283.0  358.0      301.480000        1.464576e-215\n",
       "12352.0           6.0    260.0  296.0      368.256667        2.302979e-175\n",
       "12356.0           2.0    303.0  325.0      269.905000        3.581836e-222\n",
       "12358.0           1.0    149.0  150.0      683.200000         1.595659e-70\n",
       "...               ...      ...    ...             ...                  ...\n",
       "18272.0           5.0    244.0  246.0      487.752000        4.129384e-150\n",
       "18273.0           2.0    255.0  257.0       76.500000        1.965985e-165\n",
       "18282.0           1.0    119.0  126.0       77.840000         9.562689e-50\n",
       "18283.0          13.0    334.0  337.0      152.802308        1.405503e-228\n",
       "18287.0           2.0    159.0  201.0      536.000000         4.543111e-89\n",
       "\n",
       "[2790 rows x 5 columns]"
      ]
     },
     "execution_count": 42,
     "metadata": {},
     "output_type": "execute_result"
    }
   ],
   "source": [
    "returning_customers_summary"
   ]
  },
  {
   "cell_type": "code",
   "execution_count": null,
   "id": "714ed011",
   "metadata": {},
   "outputs": [],
   "source": []
  },
  {
   "cell_type": "markdown",
   "id": "6825c017",
   "metadata": {},
   "source": [
    "# Gamma-Gamma modelling."
   ]
  },
  {
   "cell_type": "markdown",
   "id": "f6656982",
   "metadata": {},
   "source": [
    "The Gamma-Gamma model is used to predict the monetary value of user's transactions. In other words , if we know the price and historical transactions of a specific customer , then we can apply Gamma-Gamma model to predict most likely monetary value per transaction in the future.\n",
    "\n",
    "The model will determine the lifetime value of a customer\n",
    "\n",
    "\n",
    "LTV = expected number of transactions * revenue per transaction * margin\n",
    "\n",
    "Where the first element is from BG/NBD model , the second element is from Gamma-Gamma model and the margin is defined by the business"
   ]
  },
  {
   "cell_type": "code",
   "execution_count": 43,
   "id": "3b41e558",
   "metadata": {},
   "outputs": [],
   "source": [
    "from lifetimes import GammaGammaFitter"
   ]
  },
  {
   "cell_type": "code",
   "execution_count": 44,
   "id": "12b52676",
   "metadata": {},
   "outputs": [],
   "source": [
    "ggf =GammaGammaFitter(penalizer_coef=0)"
   ]
  },
  {
   "cell_type": "code",
   "execution_count": 45,
   "id": "b14b7f56",
   "metadata": {},
   "outputs": [
    {
     "data": {
      "text/plain": [
       "<lifetimes.GammaGammaFitter: fitted with 2790 subjects, p: 2.10, q: 3.45, v: 485.57>"
      ]
     },
     "execution_count": 45,
     "metadata": {},
     "output_type": "execute_result"
    }
   ],
   "source": [
    "ggf.fit(returning_customers_summary['frequency'],\n",
    "       returning_customers_summary['monetary_value'])"
   ]
  },
  {
   "cell_type": "code",
   "execution_count": 46,
   "id": "f95320e8",
   "metadata": {},
   "outputs": [
    {
     "name": "stdout",
     "output_type": "stream",
     "text": [
      "<lifetimes.GammaGammaFitter: fitted with 2790 subjects, p: 2.10, q: 3.45, v: 485.57>\n"
     ]
    }
   ],
   "source": [
    "print(ggf)"
   ]
  },
  {
   "cell_type": "code",
   "execution_count": 47,
   "id": "151334e2",
   "metadata": {},
   "outputs": [
    {
     "name": "stdout",
     "output_type": "stream",
     "text": [
      "CustomerID\n",
      "12346.0    416.917667\n",
      "12347.0    569.988807\n",
      "12348.0    333.762672\n",
      "12349.0    416.917667\n",
      "12350.0    416.917667\n",
      "12352.0    376.166864\n",
      "12353.0    416.917667\n",
      "12354.0    416.917667\n",
      "12355.0    416.917667\n",
      "12356.0    324.008941\n",
      "dtype: float64\n"
     ]
    }
   ],
   "source": [
    "print(ggf.conditional_expected_average_profit(modeldata['frequency'],modeldata['monetary_value']).head(10))"
   ]
  },
  {
   "cell_type": "code",
   "execution_count": null,
   "id": "0469fe90",
   "metadata": {},
   "outputs": [],
   "source": []
  },
  {
   "cell_type": "markdown",
   "id": "2ee5e6f4",
   "metadata": {},
   "source": [
    "# MACHINE LEARNING ALGORITHMS"
   ]
  },
  {
   "cell_type": "code",
   "execution_count": 48,
   "id": "05e2f51f",
   "metadata": {},
   "outputs": [],
   "source": [
    "import datetime"
   ]
  },
  {
   "cell_type": "code",
   "execution_count": 49,
   "id": "8d218676",
   "metadata": {},
   "outputs": [
    {
     "data": {
      "text/plain": [
       "['InvoiceNo',\n",
       " 'StockCode',\n",
       " 'Description',\n",
       " 'Quantity',\n",
       " 'InvoiceDate',\n",
       " 'UnitPrice',\n",
       " 'CustomerID',\n",
       " 'Country',\n",
       " 'amt']"
      ]
     },
     "execution_count": 49,
     "metadata": {},
     "output_type": "execute_result"
    }
   ],
   "source": [
    "list(dfnew.columns)"
   ]
  },
  {
   "cell_type": "code",
   "execution_count": 50,
   "id": "ce883364",
   "metadata": {},
   "outputs": [],
   "source": [
    "dfnew_train = dfnew[dfnew.InvoiceDate < pd.to_datetime(datetime.date(2011,11,9))]\n",
    "dfnew_test = dfnew[dfnew.InvoiceDate >= pd.to_datetime(datetime.date(2011,11,9))]"
   ]
  },
  {
   "cell_type": "code",
   "execution_count": 51,
   "id": "975191d2",
   "metadata": {},
   "outputs": [
    {
     "name": "stdout",
     "output_type": "stream",
     "text": [
      "2011-11-08 17:42:00\n",
      "2010-12-01 08:26:00\n"
     ]
    }
   ],
   "source": [
    "maxdate = dfnew_train.InvoiceDate.max()\n",
    "mindate= dfnew_train.InvoiceDate.min()\n",
    "print(maxdate)\n",
    "print(mindate)"
   ]
  },
  {
   "cell_type": "code",
   "execution_count": 52,
   "id": "479ed775",
   "metadata": {},
   "outputs": [],
   "source": [
    "dfnew_train['duration'] = (maxdate-dfnew_train.InvoiceDate)/np.timedelta64(1,'D')"
   ]
  },
  {
   "cell_type": "markdown",
   "id": "e894ca3f",
   "metadata": {},
   "source": [
    "- Get time duration between the last transaction and now."
   ]
  },
  {
   "cell_type": "code",
   "execution_count": 53,
   "id": "d885c0ca",
   "metadata": {},
   "outputs": [],
   "source": [
    "dfsum1 = dfnew_train.groupby(['CustomerID'])['duration'].min().reset_index()"
   ]
  },
  {
   "cell_type": "code",
   "execution_count": 54,
   "id": "a4d9c7ad",
   "metadata": {},
   "outputs": [],
   "source": [
    "dfsum1.rename(columns = {'duration':'latetime'},inplace=True)"
   ]
  },
  {
   "cell_type": "markdown",
   "id": "fa2ef670",
   "metadata": {},
   "source": [
    "- Get time duration between the first transaction and now."
   ]
  },
  {
   "cell_type": "code",
   "execution_count": 55,
   "id": "e0b107b6",
   "metadata": {},
   "outputs": [],
   "source": [
    "dfsum2 = dfnew_train.groupby(['CustomerID'])['duration'].max().reset_index()\n",
    "dfsum2.rename(columns = {'duration':'earlytime'},inplace=True)"
   ]
  },
  {
   "cell_type": "markdown",
   "id": "f48215b5",
   "metadata": {},
   "source": [
    "- Get transaction frequency (whole history)"
   ]
  },
  {
   "cell_type": "code",
   "execution_count": 56,
   "id": "abaaf71a",
   "metadata": {},
   "outputs": [],
   "source": [
    "dfnew_train['freq']=1"
   ]
  },
  {
   "cell_type": "code",
   "execution_count": 57,
   "id": "6bc0c12e",
   "metadata": {},
   "outputs": [],
   "source": [
    "dfsum3 = dfnew_train.groupby(['CustomerID'])['freq'].sum().reset_index()"
   ]
  },
  {
   "cell_type": "markdown",
   "id": "523ab38a",
   "metadata": {},
   "source": [
    "- Get transaction frequency (recent 3 months history)"
   ]
  },
  {
   "cell_type": "code",
   "execution_count": 58,
   "id": "160fee89",
   "metadata": {},
   "outputs": [],
   "source": [
    "dfnew_train['freq_3m'] =1\n",
    "dfsum4 = dfnew_train[dfnew_train.duration<91].groupby(['CustomerID'])['freq_3m'].sum().reset_index()"
   ]
  },
  {
   "cell_type": "code",
   "execution_count": 59,
   "id": "6e9d9655",
   "metadata": {},
   "outputs": [],
   "source": [
    "dfsum = pd.merge(dfsum1 , dfsum2, on=['CustomerID'], how = 'outer')\n",
    "dfsum = pd.merge(dfsum , dfsum3, on=['CustomerID'], how = 'outer')\n",
    "dfsum = pd.merge(dfsum , dfsum4, on=['CustomerID'], how = 'outer')\n"
   ]
  },
  {
   "cell_type": "code",
   "execution_count": 60,
   "id": "2e4fc7eb",
   "metadata": {},
   "outputs": [
    {
     "data": {
      "text/html": [
       "<div>\n",
       "<style scoped>\n",
       "    .dataframe tbody tr th:only-of-type {\n",
       "        vertical-align: middle;\n",
       "    }\n",
       "\n",
       "    .dataframe tbody tr th {\n",
       "        vertical-align: top;\n",
       "    }\n",
       "\n",
       "    .dataframe thead th {\n",
       "        text-align: right;\n",
       "    }\n",
       "</style>\n",
       "<table border=\"1\" class=\"dataframe\">\n",
       "  <thead>\n",
       "    <tr style=\"text-align: right;\">\n",
       "      <th></th>\n",
       "      <th>CustomerID</th>\n",
       "      <th>latetime</th>\n",
       "      <th>earlytime</th>\n",
       "      <th>freq</th>\n",
       "      <th>freq_3m</th>\n",
       "    </tr>\n",
       "  </thead>\n",
       "  <tbody>\n",
       "    <tr>\n",
       "      <th>0</th>\n",
       "      <td>12346.0</td>\n",
       "      <td>294.320139</td>\n",
       "      <td>294.320139</td>\n",
       "      <td>1</td>\n",
       "      <td>NaN</td>\n",
       "    </tr>\n",
       "    <tr>\n",
       "      <th>1</th>\n",
       "      <td>12347.0</td>\n",
       "      <td>8.220139</td>\n",
       "      <td>336.114583</td>\n",
       "      <td>171</td>\n",
       "      <td>47.0</td>\n",
       "    </tr>\n",
       "    <tr>\n",
       "      <th>2</th>\n",
       "      <td>12348.0</td>\n",
       "      <td>44.186806</td>\n",
       "      <td>326.939583</td>\n",
       "      <td>31</td>\n",
       "      <td>3.0</td>\n",
       "    </tr>\n",
       "    <tr>\n",
       "      <th>3</th>\n",
       "      <td>12350.0</td>\n",
       "      <td>279.070139</td>\n",
       "      <td>279.070139</td>\n",
       "      <td>17</td>\n",
       "      <td>NaN</td>\n",
       "    </tr>\n",
       "    <tr>\n",
       "      <th>4</th>\n",
       "      <td>12352.0</td>\n",
       "      <td>5.128472</td>\n",
       "      <td>265.214583</td>\n",
       "      <td>85</td>\n",
       "      <td>47.0</td>\n",
       "    </tr>\n",
       "  </tbody>\n",
       "</table>\n",
       "</div>"
      ],
      "text/plain": [
       "   CustomerID    latetime   earlytime  freq  freq_3m\n",
       "0     12346.0  294.320139  294.320139     1      NaN\n",
       "1     12347.0    8.220139  336.114583   171     47.0\n",
       "2     12348.0   44.186806  326.939583    31      3.0\n",
       "3     12350.0  279.070139  279.070139    17      NaN\n",
       "4     12352.0    5.128472  265.214583    85     47.0"
      ]
     },
     "execution_count": 60,
     "metadata": {},
     "output_type": "execute_result"
    }
   ],
   "source": [
    "dfsum.head()"
   ]
  },
  {
   "cell_type": "markdown",
   "id": "c3193e10",
   "metadata": {},
   "source": [
    "- Get other data source"
   ]
  },
  {
   "cell_type": "code",
   "execution_count": 61,
   "id": "cc442f10",
   "metadata": {},
   "outputs": [],
   "source": [
    "dfnew.InvoiceDate.max()\n",
    "dfnew.InvoiceDate.min()\n",
    "A = dfnew[dfnew.InvoiceDate>pd.to_datetime(datetime.date(2011, 11, 9))]\n",
    "A.shape\n",
    "Z = pd.DataFrame(A.CustomerID.value_counts()).reset_index()\n",
    "list(Z.columns)\n",
    "Z.columns = ['CustomerID','buytime']\n",
    "Z = Z.sort_values(['buytime'], ascending = False)\n",
    "Z.head(20)\n",
    "\n",
    "len(Z)\n",
    "len(set(dfnew.CustomerID))\n",
    "\n",
    "allcus = pd.DataFrame(set(dfnew.CustomerID), columns = ['CustomerID'])\n",
    "\n",
    "allcus = pd.merge(allcus, Z, on=['CustomerID'], how='left').sort_values(['buytime'], ascending = False)\n",
    "allcus = allcus.fillna(0)\n",
    "\n",
    "allcus['buytime'] = allcus['buytime']/allcus['buytime'].max()\n",
    "\n",
    "allcus['v1'] = allcus['buytime']*0.78 + np.random.normal(0, 0.11, len(allcus))\n",
    "\n",
    "allcus['v2'] = allcus['buytime']*allcus['buytime']*(-0.195) + 0.11*allcus['buytime']\n",
    "\n",
    "allcus.corr()\n",
    "\n",
    "\n",
    "allcus['v1'] = (allcus['v1'] - allcus['v1'].min())/(allcus['v1'].max() - allcus['v1'].min())\n",
    "\n",
    "allcus['v2'] = (allcus['v2'] - allcus['v2'].min())/(allcus['v2'].max() - allcus['v2'].min())\n",
    "\n",
    "allcus['score'] = round(allcus['v2']*100000)\n",
    "allcus.score.max()\n",
    "\n",
    "\n",
    "allcus['discount'] = round(allcus['v1']*12.6)\n",
    "\n",
    "allcus['r'] = np.random.randint(100,size=len(allcus))\n",
    "\n",
    "def def2(D):\n",
    "    if D['r']<13:\n",
    "        x = 0\n",
    "    else:\n",
    "        x = D['discount']\n",
    "    \n",
    "    return x\n",
    "\n",
    "allcus['discount'] = allcus.apply(def2, axis = 1)\n",
    "\n",
    "v = ['CustomerID', 'score', 'discount']\n",
    "allcus = allcus[v]\n",
    "\n",
    "allcus = allcus.sort_values(['score'])\n",
    "\n",
    "allcus.score.std()\n",
    "allcus.corr()\n",
    "\n",
    "allcus.to_csv('oth.csv', index = False)"
   ]
  },
  {
   "cell_type": "code",
   "execution_count": 62,
   "id": "72506f79",
   "metadata": {},
   "outputs": [
    {
     "data": {
      "text/plain": [
       "['CustomerID', 'score', 'discount']"
      ]
     },
     "execution_count": 62,
     "metadata": {},
     "output_type": "execute_result"
    }
   ],
   "source": [
    "other_data = pd.read_csv('oth.csv')\n",
    "list(other_data.columns)"
   ]
  },
  {
   "cell_type": "code",
   "execution_count": 63,
   "id": "f90eff2c",
   "metadata": {},
   "outputs": [],
   "source": [
    "dfsum = pd.merge(dfsum,other_data, on=['CustomerID'], how='left')"
   ]
  },
  {
   "cell_type": "markdown",
   "id": "e5da4f1e",
   "metadata": {},
   "source": [
    "- Get target"
   ]
  },
  {
   "cell_type": "code",
   "execution_count": 64,
   "id": "dcfcafa0",
   "metadata": {},
   "outputs": [],
   "source": [
    "dfnew_test['target'] = 1\n",
    "dfsum_target = dfnew_test.groupby(['CustomerID'])['target'].sum().reset_index()"
   ]
  },
  {
   "cell_type": "code",
   "execution_count": 65,
   "id": "5d74ff7b",
   "metadata": {
    "scrolled": false
   },
   "outputs": [
    {
     "data": {
      "text/html": [
       "<div>\n",
       "<style scoped>\n",
       "    .dataframe tbody tr th:only-of-type {\n",
       "        vertical-align: middle;\n",
       "    }\n",
       "\n",
       "    .dataframe tbody tr th {\n",
       "        vertical-align: top;\n",
       "    }\n",
       "\n",
       "    .dataframe thead th {\n",
       "        text-align: right;\n",
       "    }\n",
       "</style>\n",
       "<table border=\"1\" class=\"dataframe\">\n",
       "  <thead>\n",
       "    <tr style=\"text-align: right;\">\n",
       "      <th></th>\n",
       "      <th>CustomerID</th>\n",
       "      <th>latetime</th>\n",
       "      <th>earlytime</th>\n",
       "      <th>freq</th>\n",
       "      <th>freq_3m</th>\n",
       "      <th>score</th>\n",
       "      <th>discount</th>\n",
       "      <th>target</th>\n",
       "    </tr>\n",
       "  </thead>\n",
       "  <tbody>\n",
       "    <tr>\n",
       "      <th>1216</th>\n",
       "      <td>14096.0</td>\n",
       "      <td>8.147917</td>\n",
       "      <td>70.286806</td>\n",
       "      <td>2688</td>\n",
       "      <td>2688.0</td>\n",
       "      <td>0.0</td>\n",
       "      <td>13.0</td>\n",
       "      <td>2423.0</td>\n",
       "    </tr>\n",
       "    <tr>\n",
       "      <th>300</th>\n",
       "      <td>12748.0</td>\n",
       "      <td>0.138889</td>\n",
       "      <td>342.204167</td>\n",
       "      <td>2945</td>\n",
       "      <td>1070.0</td>\n",
       "      <td>70118.0</td>\n",
       "      <td>11.0</td>\n",
       "      <td>1651.0</td>\n",
       "    </tr>\n",
       "    <tr>\n",
       "      <th>3766</th>\n",
       "      <td>17841.0</td>\n",
       "      <td>0.197222</td>\n",
       "      <td>342.125694</td>\n",
       "      <td>6309</td>\n",
       "      <td>2548.0</td>\n",
       "      <td>77026.0</td>\n",
       "      <td>11.0</td>\n",
       "      <td>1538.0</td>\n",
       "    </tr>\n",
       "    <tr>\n",
       "      <th>1770</th>\n",
       "      <td>14911.0</td>\n",
       "      <td>1.018750</td>\n",
       "      <td>342.150694</td>\n",
       "      <td>4566</td>\n",
       "      <td>2066.0</td>\n",
       "      <td>95394.0</td>\n",
       "      <td>7.0</td>\n",
       "      <td>1111.0</td>\n",
       "    </tr>\n",
       "    <tr>\n",
       "      <th>2896</th>\n",
       "      <td>16549.0</td>\n",
       "      <td>0.156250</td>\n",
       "      <td>303.152083</td>\n",
       "      <td>511</td>\n",
       "      <td>368.0</td>\n",
       "      <td>100000.0</td>\n",
       "      <td>4.0</td>\n",
       "      <td>470.0</td>\n",
       "    </tr>\n",
       "    <tr>\n",
       "      <th>...</th>\n",
       "      <td>...</td>\n",
       "      <td>...</td>\n",
       "      <td>...</td>\n",
       "      <td>...</td>\n",
       "      <td>...</td>\n",
       "      <td>...</td>\n",
       "      <td>...</td>\n",
       "      <td>...</td>\n",
       "    </tr>\n",
       "    <tr>\n",
       "      <th>1690</th>\n",
       "      <td>14782.0</td>\n",
       "      <td>288.270833</td>\n",
       "      <td>288.270833</td>\n",
       "      <td>6</td>\n",
       "      <td>0.0</td>\n",
       "      <td>85858.0</td>\n",
       "      <td>5.0</td>\n",
       "      <td>0.0</td>\n",
       "    </tr>\n",
       "    <tr>\n",
       "      <th>1693</th>\n",
       "      <td>14792.0</td>\n",
       "      <td>32.349306</td>\n",
       "      <td>32.349306</td>\n",
       "      <td>2</td>\n",
       "      <td>2.0</td>\n",
       "      <td>85858.0</td>\n",
       "      <td>5.0</td>\n",
       "      <td>0.0</td>\n",
       "    </tr>\n",
       "    <tr>\n",
       "      <th>1695</th>\n",
       "      <td>14795.0</td>\n",
       "      <td>135.193056</td>\n",
       "      <td>135.193056</td>\n",
       "      <td>6</td>\n",
       "      <td>0.0</td>\n",
       "      <td>85858.0</td>\n",
       "      <td>5.0</td>\n",
       "      <td>0.0</td>\n",
       "    </tr>\n",
       "    <tr>\n",
       "      <th>1697</th>\n",
       "      <td>14798.0</td>\n",
       "      <td>21.280556</td>\n",
       "      <td>279.094444</td>\n",
       "      <td>12</td>\n",
       "      <td>4.0</td>\n",
       "      <td>85858.0</td>\n",
       "      <td>2.0</td>\n",
       "      <td>0.0</td>\n",
       "    </tr>\n",
       "    <tr>\n",
       "      <th>4066</th>\n",
       "      <td>18287.0</td>\n",
       "      <td>11.342361</td>\n",
       "      <td>170.293750</td>\n",
       "      <td>70</td>\n",
       "      <td>41.0</td>\n",
       "      <td>85858.0</td>\n",
       "      <td>5.0</td>\n",
       "      <td>0.0</td>\n",
       "    </tr>\n",
       "  </tbody>\n",
       "</table>\n",
       "<p>4067 rows × 8 columns</p>\n",
       "</div>"
      ],
      "text/plain": [
       "      CustomerID    latetime   earlytime  freq  freq_3m     score  discount  \\\n",
       "1216     14096.0    8.147917   70.286806  2688   2688.0       0.0      13.0   \n",
       "300      12748.0    0.138889  342.204167  2945   1070.0   70118.0      11.0   \n",
       "3766     17841.0    0.197222  342.125694  6309   2548.0   77026.0      11.0   \n",
       "1770     14911.0    1.018750  342.150694  4566   2066.0   95394.0       7.0   \n",
       "2896     16549.0    0.156250  303.152083   511    368.0  100000.0       4.0   \n",
       "...          ...         ...         ...   ...      ...       ...       ...   \n",
       "1690     14782.0  288.270833  288.270833     6      0.0   85858.0       5.0   \n",
       "1693     14792.0   32.349306   32.349306     2      2.0   85858.0       5.0   \n",
       "1695     14795.0  135.193056  135.193056     6      0.0   85858.0       5.0   \n",
       "1697     14798.0   21.280556  279.094444    12      4.0   85858.0       2.0   \n",
       "4066     18287.0   11.342361  170.293750    70     41.0   85858.0       5.0   \n",
       "\n",
       "      target  \n",
       "1216  2423.0  \n",
       "300   1651.0  \n",
       "3766  1538.0  \n",
       "1770  1111.0  \n",
       "2896   470.0  \n",
       "...      ...  \n",
       "1690     0.0  \n",
       "1693     0.0  \n",
       "1695     0.0  \n",
       "1697     0.0  \n",
       "4066     0.0  \n",
       "\n",
       "[4067 rows x 8 columns]"
      ]
     },
     "execution_count": 65,
     "metadata": {},
     "output_type": "execute_result"
    }
   ],
   "source": [
    "dfsum = pd.merge(dfsum,dfsum_target,on=['CustomerID'], how='left')\n"
   ]
  },
  {
   "cell_type": "code",
   "execution_count": 67,
   "id": "5b4a3891",
   "metadata": {},
   "outputs": [],
   "source": [
    "dfsum =dfsum.fillna(0).sort_values(['target'],ascending=False)"
   ]
  },
  {
   "cell_type": "markdown",
   "id": "efe89280",
   "metadata": {},
   "source": [
    "- Check all features in the modelling data."
   ]
  },
  {
   "cell_type": "code",
   "execution_count": 68,
   "id": "ef3ae54d",
   "metadata": {},
   "outputs": [
    {
     "data": {
      "text/html": [
       "<div>\n",
       "<style scoped>\n",
       "    .dataframe tbody tr th:only-of-type {\n",
       "        vertical-align: middle;\n",
       "    }\n",
       "\n",
       "    .dataframe tbody tr th {\n",
       "        vertical-align: top;\n",
       "    }\n",
       "\n",
       "    .dataframe thead th {\n",
       "        text-align: right;\n",
       "    }\n",
       "</style>\n",
       "<table border=\"1\" class=\"dataframe\">\n",
       "  <thead>\n",
       "    <tr style=\"text-align: right;\">\n",
       "      <th></th>\n",
       "      <th>CustomerID</th>\n",
       "      <th>latetime</th>\n",
       "      <th>earlytime</th>\n",
       "      <th>freq</th>\n",
       "      <th>freq_3m</th>\n",
       "      <th>score</th>\n",
       "      <th>discount</th>\n",
       "      <th>target</th>\n",
       "    </tr>\n",
       "  </thead>\n",
       "  <tbody>\n",
       "    <tr>\n",
       "      <th>1216</th>\n",
       "      <td>14096.0</td>\n",
       "      <td>8.147917</td>\n",
       "      <td>70.286806</td>\n",
       "      <td>2688</td>\n",
       "      <td>2688.0</td>\n",
       "      <td>0.0</td>\n",
       "      <td>13.0</td>\n",
       "      <td>2423.0</td>\n",
       "    </tr>\n",
       "    <tr>\n",
       "      <th>300</th>\n",
       "      <td>12748.0</td>\n",
       "      <td>0.138889</td>\n",
       "      <td>342.204167</td>\n",
       "      <td>2945</td>\n",
       "      <td>1070.0</td>\n",
       "      <td>70118.0</td>\n",
       "      <td>11.0</td>\n",
       "      <td>1651.0</td>\n",
       "    </tr>\n",
       "    <tr>\n",
       "      <th>3766</th>\n",
       "      <td>17841.0</td>\n",
       "      <td>0.197222</td>\n",
       "      <td>342.125694</td>\n",
       "      <td>6309</td>\n",
       "      <td>2548.0</td>\n",
       "      <td>77026.0</td>\n",
       "      <td>11.0</td>\n",
       "      <td>1538.0</td>\n",
       "    </tr>\n",
       "    <tr>\n",
       "      <th>1770</th>\n",
       "      <td>14911.0</td>\n",
       "      <td>1.018750</td>\n",
       "      <td>342.150694</td>\n",
       "      <td>4566</td>\n",
       "      <td>2066.0</td>\n",
       "      <td>95394.0</td>\n",
       "      <td>7.0</td>\n",
       "      <td>1111.0</td>\n",
       "    </tr>\n",
       "    <tr>\n",
       "      <th>2896</th>\n",
       "      <td>16549.0</td>\n",
       "      <td>0.156250</td>\n",
       "      <td>303.152083</td>\n",
       "      <td>511</td>\n",
       "      <td>368.0</td>\n",
       "      <td>100000.0</td>\n",
       "      <td>4.0</td>\n",
       "      <td>470.0</td>\n",
       "    </tr>\n",
       "    <tr>\n",
       "      <th>1572</th>\n",
       "      <td>14606.0</td>\n",
       "      <td>1.134722</td>\n",
       "      <td>342.031250</td>\n",
       "      <td>2364</td>\n",
       "      <td>531.0</td>\n",
       "      <td>97479.0</td>\n",
       "      <td>5.0</td>\n",
       "      <td>336.0</td>\n",
       "    </tr>\n",
       "    <tr>\n",
       "      <th>1463</th>\n",
       "      <td>14456.0</td>\n",
       "      <td>9.200694</td>\n",
       "      <td>111.191667</td>\n",
       "      <td>645</td>\n",
       "      <td>404.0</td>\n",
       "      <td>97218.0</td>\n",
       "      <td>8.0</td>\n",
       "      <td>325.0</td>\n",
       "    </tr>\n",
       "    <tr>\n",
       "      <th>2772</th>\n",
       "      <td>16360.0</td>\n",
       "      <td>7.204167</td>\n",
       "      <td>57.161111</td>\n",
       "      <td>372</td>\n",
       "      <td>372.0</td>\n",
       "      <td>96335.0</td>\n",
       "      <td>5.0</td>\n",
       "      <td>290.0</td>\n",
       "    </tr>\n",
       "    <tr>\n",
       "      <th>2052</th>\n",
       "      <td>15311.0</td>\n",
       "      <td>4.172222</td>\n",
       "      <td>342.334028</td>\n",
       "      <td>2104</td>\n",
       "      <td>535.0</td>\n",
       "      <td>95932.0</td>\n",
       "      <td>4.0</td>\n",
       "      <td>275.0</td>\n",
       "    </tr>\n",
       "    <tr>\n",
       "      <th>4065</th>\n",
       "      <td>18283.0</td>\n",
       "      <td>12.127778</td>\n",
       "      <td>306.144444</td>\n",
       "      <td>487</td>\n",
       "      <td>87.0</td>\n",
       "      <td>95766.0</td>\n",
       "      <td>0.0</td>\n",
       "      <td>269.0</td>\n",
       "    </tr>\n",
       "  </tbody>\n",
       "</table>\n",
       "</div>"
      ],
      "text/plain": [
       "      CustomerID   latetime   earlytime  freq  freq_3m     score  discount  \\\n",
       "1216     14096.0   8.147917   70.286806  2688   2688.0       0.0      13.0   \n",
       "300      12748.0   0.138889  342.204167  2945   1070.0   70118.0      11.0   \n",
       "3766     17841.0   0.197222  342.125694  6309   2548.0   77026.0      11.0   \n",
       "1770     14911.0   1.018750  342.150694  4566   2066.0   95394.0       7.0   \n",
       "2896     16549.0   0.156250  303.152083   511    368.0  100000.0       4.0   \n",
       "1572     14606.0   1.134722  342.031250  2364    531.0   97479.0       5.0   \n",
       "1463     14456.0   9.200694  111.191667   645    404.0   97218.0       8.0   \n",
       "2772     16360.0   7.204167   57.161111   372    372.0   96335.0       5.0   \n",
       "2052     15311.0   4.172222  342.334028  2104    535.0   95932.0       4.0   \n",
       "4065     18283.0  12.127778  306.144444   487     87.0   95766.0       0.0   \n",
       "\n",
       "      target  \n",
       "1216  2423.0  \n",
       "300   1651.0  \n",
       "3766  1538.0  \n",
       "1770  1111.0  \n",
       "2896   470.0  \n",
       "1572   336.0  \n",
       "1463   325.0  \n",
       "2772   290.0  \n",
       "2052   275.0  \n",
       "4065   269.0  "
      ]
     },
     "execution_count": 68,
     "metadata": {},
     "output_type": "execute_result"
    }
   ],
   "source": [
    "list(dfsum.columns)\n",
    "dfsum.head(10)"
   ]
  },
  {
   "cell_type": "code",
   "execution_count": 69,
   "id": "fe76567a",
   "metadata": {},
   "outputs": [
    {
     "data": {
      "text/plain": [
       "CustomerID    0\n",
       "latetime      0\n",
       "earlytime     0\n",
       "freq          0\n",
       "freq_3m       0\n",
       "score         0\n",
       "discount      0\n",
       "target        0\n",
       "dtype: int64"
      ]
     },
     "execution_count": 69,
     "metadata": {},
     "output_type": "execute_result"
    }
   ],
   "source": [
    "dfsum.isna().sum()"
   ]
  },
  {
   "cell_type": "markdown",
   "id": "1fcc8b5d",
   "metadata": {},
   "source": [
    "# XGB Model"
   ]
  },
  {
   "cell_type": "code",
   "execution_count": null,
   "id": "d3deb7ea",
   "metadata": {},
   "outputs": [],
   "source": []
  },
  {
   "cell_type": "code",
   "execution_count": null,
   "id": "fa90f515",
   "metadata": {},
   "outputs": [],
   "source": []
  },
  {
   "cell_type": "code",
   "execution_count": null,
   "id": "511d2d04",
   "metadata": {},
   "outputs": [],
   "source": []
  },
  {
   "cell_type": "code",
   "execution_count": null,
   "id": "17cc2e30",
   "metadata": {},
   "outputs": [],
   "source": []
  },
  {
   "cell_type": "code",
   "execution_count": null,
   "id": "0b772ddd",
   "metadata": {},
   "outputs": [],
   "source": []
  },
  {
   "cell_type": "code",
   "execution_count": null,
   "id": "4fe36e38",
   "metadata": {},
   "outputs": [],
   "source": []
  },
  {
   "cell_type": "code",
   "execution_count": null,
   "id": "bb56882c",
   "metadata": {},
   "outputs": [],
   "source": []
  }
 ],
 "metadata": {
  "kernelspec": {
   "display_name": "Python 3 (ipykernel)",
   "language": "python",
   "name": "python3"
  },
  "language_info": {
   "codemirror_mode": {
    "name": "ipython",
    "version": 3
   },
   "file_extension": ".py",
   "mimetype": "text/x-python",
   "name": "python",
   "nbconvert_exporter": "python",
   "pygments_lexer": "ipython3",
   "version": "3.11.3"
  }
 },
 "nbformat": 4,
 "nbformat_minor": 5
}
